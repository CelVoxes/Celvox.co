{
 "cells": [
  {
   "cell_type": "code",
   "execution_count": 41,
   "id": "1dc0691a-bbfe-4885-9ae1-2a9dab216da7",
   "metadata": {
    "vscode": {
     "languageId": "r"
    }
   },
   "outputs": [],
   "source": [
    "library(data.table)\n",
    "library(Rtsne)\n"
   ]
  },
  {
   "cell_type": "code",
   "execution_count": 42,
   "id": "1f9bde22",
   "metadata": {
    "vscode": {
     "languageId": "r"
    }
   },
   "outputs": [
    {
     "ename": "ERROR",
     "evalue": "Error in setwd(\"backend/\"): cannot change working directory\n",
     "output_type": "error",
     "traceback": [
      "Error in setwd(\"backend/\"): cannot change working directory\nTraceback:\n",
      "1. setwd(\"backend/\")"
     ]
    }
   ],
   "source": [
    "setwd(\"backend/\")\n",
    "\n",
    "source(\"plumber.R\")"
   ]
  },
  {
   "cell_type": "code",
   "execution_count": 21,
   "id": "2d886116",
   "metadata": {
    "vscode": {
     "languageId": "r"
    }
   },
   "outputs": [],
   "source": [
    "corrected <- fread(\"data/counts/normalised_and_corrected_counts.csv\", data.table = F)\n",
    "\n",
    "\n"
   ]
  },
  {
   "cell_type": "code",
   "execution_count": 22,
   "id": "e2c6d68f",
   "metadata": {
    "vscode": {
     "languageId": "r"
    }
   },
   "outputs": [
    {
     "data": {
      "text/html": [
       "<table class=\"dataframe\">\n",
       "<caption>A data.frame: 6 × 41863</caption>\n",
       "<thead>\n",
       "\t<tr><th></th><th scope=col>V1</th><th scope=col>ENSG00000000003.15</th><th scope=col>ENSG00000000419.13</th><th scope=col>ENSG00000000457.14</th><th scope=col>ENSG00000000460.17</th><th scope=col>ENSG00000000938.13</th><th scope=col>ENSG00000000971.16</th><th scope=col>ENSG00000001036.14</th><th scope=col>ENSG00000001084.13</th><th scope=col>ENSG00000001167.14</th><th scope=col>⋯</th><th scope=col>ENSG00000288657.1</th><th scope=col>ENSG00000288658.1</th><th scope=col>ENSG00000288660.1</th><th scope=col>ENSG00000288662.1</th><th scope=col>ENSG00000288663.1</th><th scope=col>ENSG00000288667.1</th><th scope=col>ENSG00000288669.1</th><th scope=col>ENSG00000288670.1</th><th scope=col>ENSG00000288674.1</th><th scope=col>ENSG00000288675.1</th></tr>\n",
       "\t<tr><th></th><th scope=col>&lt;chr&gt;</th><th scope=col>&lt;dbl&gt;</th><th scope=col>&lt;dbl&gt;</th><th scope=col>&lt;dbl&gt;</th><th scope=col>&lt;dbl&gt;</th><th scope=col>&lt;dbl&gt;</th><th scope=col>&lt;dbl&gt;</th><th scope=col>&lt;dbl&gt;</th><th scope=col>&lt;dbl&gt;</th><th scope=col>&lt;dbl&gt;</th><th scope=col>⋯</th><th scope=col>&lt;dbl&gt;</th><th scope=col>&lt;dbl&gt;</th><th scope=col>&lt;dbl&gt;</th><th scope=col>&lt;dbl&gt;</th><th scope=col>&lt;dbl&gt;</th><th scope=col>&lt;dbl&gt;</th><th scope=col>&lt;dbl&gt;</th><th scope=col>&lt;dbl&gt;</th><th scope=col>&lt;dbl&gt;</th><th scope=col>&lt;dbl&gt;</th></tr>\n",
       "</thead>\n",
       "<tbody>\n",
       "\t<tr><th scope=row>1</th><td>BA2872</td><td>4.321210</td><td>11.01976</td><td> 9.416260</td><td>10.048054</td><td>15.16717</td><td> 4.949184</td><td>10.36116</td><td>11.53313</td><td>11.64725</td><td>⋯</td><td>2.742142</td><td>3.364380</td><td>4.213543</td><td>2.742142</td><td>6.094723</td><td>2.742142</td><td>2.742142</td><td>7.460952</td><td>5.009707</td><td>4.213543</td></tr>\n",
       "\t<tr><th scope=row>2</th><td>BA2639</td><td>2.742142</td><td>10.55033</td><td> 9.693798</td><td> 9.603347</td><td>12.20667</td><td> 3.722804</td><td>10.90154</td><td>10.92715</td><td>11.25755</td><td>⋯</td><td>2.742142</td><td>2.742142</td><td>3.867678</td><td>3.547843</td><td>6.402471</td><td>2.742142</td><td>3.315510</td><td>7.552110</td><td>5.610915</td><td>5.402739</td></tr>\n",
       "\t<tr><th scope=row>3</th><td>BA2235</td><td>3.339225</td><td>10.41130</td><td>10.080552</td><td> 8.531907</td><td>13.41539</td><td> 6.305154</td><td>10.68426</td><td>11.23711</td><td>11.27008</td><td>⋯</td><td>2.742142</td><td>5.094127</td><td>3.762327</td><td>2.742142</td><td>6.239580</td><td>2.742142</td><td>2.742142</td><td>7.612192</td><td>5.327893</td><td>5.527382</td></tr>\n",
       "\t<tr><th scope=row>4</th><td>BA2442</td><td>3.822217</td><td>10.30104</td><td> 9.835924</td><td> 9.089096</td><td>12.08398</td><td>11.023523</td><td>10.65746</td><td>12.24617</td><td>11.09781</td><td>⋯</td><td>2.742142</td><td>4.470195</td><td>3.514572</td><td>3.514572</td><td>5.852579</td><td>2.742142</td><td>2.742142</td><td>7.620637</td><td>4.934385</td><td>5.517125</td></tr>\n",
       "\t<tr><th scope=row>5</th><td>BA2952</td><td>4.573491</td><td>10.61910</td><td> 9.411147</td><td> 9.202064</td><td>13.19920</td><td> 6.895421</td><td>10.86450</td><td>11.47246</td><td>11.58256</td><td>⋯</td><td>2.742142</td><td>4.573491</td><td>2.742142</td><td>2.742142</td><td>6.305480</td><td>3.281712</td><td>2.742142</td><td>7.827609</td><td>4.692209</td><td>5.598022</td></tr>\n",
       "\t<tr><th scope=row>6</th><td>BA2951</td><td>4.542784</td><td>10.16171</td><td> 9.884716</td><td> 9.207534</td><td>12.28846</td><td> 8.327703</td><td>10.03167</td><td>10.53763</td><td>10.92717</td><td>⋯</td><td>2.742142</td><td>3.632933</td><td>4.350643</td><td>3.376946</td><td>6.391191</td><td>3.632933</td><td>2.742142</td><td>8.446833</td><td>4.922933</td><td>6.391191</td></tr>\n",
       "</tbody>\n",
       "</table>\n"
      ],
      "text/latex": [
       "A data.frame: 6 × 41863\n",
       "\\begin{tabular}{r|lllllllllllllllllllll}\n",
       "  & V1 & ENSG00000000003.15 & ENSG00000000419.13 & ENSG00000000457.14 & ENSG00000000460.17 & ENSG00000000938.13 & ENSG00000000971.16 & ENSG00000001036.14 & ENSG00000001084.13 & ENSG00000001167.14 & ⋯ & ENSG00000288657.1 & ENSG00000288658.1 & ENSG00000288660.1 & ENSG00000288662.1 & ENSG00000288663.1 & ENSG00000288667.1 & ENSG00000288669.1 & ENSG00000288670.1 & ENSG00000288674.1 & ENSG00000288675.1\\\\\n",
       "  & <chr> & <dbl> & <dbl> & <dbl> & <dbl> & <dbl> & <dbl> & <dbl> & <dbl> & <dbl> & ⋯ & <dbl> & <dbl> & <dbl> & <dbl> & <dbl> & <dbl> & <dbl> & <dbl> & <dbl> & <dbl>\\\\\n",
       "\\hline\n",
       "\t1 & BA2872 & 4.321210 & 11.01976 &  9.416260 & 10.048054 & 15.16717 &  4.949184 & 10.36116 & 11.53313 & 11.64725 & ⋯ & 2.742142 & 3.364380 & 4.213543 & 2.742142 & 6.094723 & 2.742142 & 2.742142 & 7.460952 & 5.009707 & 4.213543\\\\\n",
       "\t2 & BA2639 & 2.742142 & 10.55033 &  9.693798 &  9.603347 & 12.20667 &  3.722804 & 10.90154 & 10.92715 & 11.25755 & ⋯ & 2.742142 & 2.742142 & 3.867678 & 3.547843 & 6.402471 & 2.742142 & 3.315510 & 7.552110 & 5.610915 & 5.402739\\\\\n",
       "\t3 & BA2235 & 3.339225 & 10.41130 & 10.080552 &  8.531907 & 13.41539 &  6.305154 & 10.68426 & 11.23711 & 11.27008 & ⋯ & 2.742142 & 5.094127 & 3.762327 & 2.742142 & 6.239580 & 2.742142 & 2.742142 & 7.612192 & 5.327893 & 5.527382\\\\\n",
       "\t4 & BA2442 & 3.822217 & 10.30104 &  9.835924 &  9.089096 & 12.08398 & 11.023523 & 10.65746 & 12.24617 & 11.09781 & ⋯ & 2.742142 & 4.470195 & 3.514572 & 3.514572 & 5.852579 & 2.742142 & 2.742142 & 7.620637 & 4.934385 & 5.517125\\\\\n",
       "\t5 & BA2952 & 4.573491 & 10.61910 &  9.411147 &  9.202064 & 13.19920 &  6.895421 & 10.86450 & 11.47246 & 11.58256 & ⋯ & 2.742142 & 4.573491 & 2.742142 & 2.742142 & 6.305480 & 3.281712 & 2.742142 & 7.827609 & 4.692209 & 5.598022\\\\\n",
       "\t6 & BA2951 & 4.542784 & 10.16171 &  9.884716 &  9.207534 & 12.28846 &  8.327703 & 10.03167 & 10.53763 & 10.92717 & ⋯ & 2.742142 & 3.632933 & 4.350643 & 3.376946 & 6.391191 & 3.632933 & 2.742142 & 8.446833 & 4.922933 & 6.391191\\\\\n",
       "\\end{tabular}\n"
      ],
      "text/markdown": [
       "\n",
       "A data.frame: 6 × 41863\n",
       "\n",
       "| <!--/--> | V1 &lt;chr&gt; | ENSG00000000003.15 &lt;dbl&gt; | ENSG00000000419.13 &lt;dbl&gt; | ENSG00000000457.14 &lt;dbl&gt; | ENSG00000000460.17 &lt;dbl&gt; | ENSG00000000938.13 &lt;dbl&gt; | ENSG00000000971.16 &lt;dbl&gt; | ENSG00000001036.14 &lt;dbl&gt; | ENSG00000001084.13 &lt;dbl&gt; | ENSG00000001167.14 &lt;dbl&gt; | ⋯ ⋯ | ENSG00000288657.1 &lt;dbl&gt; | ENSG00000288658.1 &lt;dbl&gt; | ENSG00000288660.1 &lt;dbl&gt; | ENSG00000288662.1 &lt;dbl&gt; | ENSG00000288663.1 &lt;dbl&gt; | ENSG00000288667.1 &lt;dbl&gt; | ENSG00000288669.1 &lt;dbl&gt; | ENSG00000288670.1 &lt;dbl&gt; | ENSG00000288674.1 &lt;dbl&gt; | ENSG00000288675.1 &lt;dbl&gt; |\n",
       "|---|---|---|---|---|---|---|---|---|---|---|---|---|---|---|---|---|---|---|---|---|---|\n",
       "| 1 | BA2872 | 4.321210 | 11.01976 |  9.416260 | 10.048054 | 15.16717 |  4.949184 | 10.36116 | 11.53313 | 11.64725 | ⋯ | 2.742142 | 3.364380 | 4.213543 | 2.742142 | 6.094723 | 2.742142 | 2.742142 | 7.460952 | 5.009707 | 4.213543 |\n",
       "| 2 | BA2639 | 2.742142 | 10.55033 |  9.693798 |  9.603347 | 12.20667 |  3.722804 | 10.90154 | 10.92715 | 11.25755 | ⋯ | 2.742142 | 2.742142 | 3.867678 | 3.547843 | 6.402471 | 2.742142 | 3.315510 | 7.552110 | 5.610915 | 5.402739 |\n",
       "| 3 | BA2235 | 3.339225 | 10.41130 | 10.080552 |  8.531907 | 13.41539 |  6.305154 | 10.68426 | 11.23711 | 11.27008 | ⋯ | 2.742142 | 5.094127 | 3.762327 | 2.742142 | 6.239580 | 2.742142 | 2.742142 | 7.612192 | 5.327893 | 5.527382 |\n",
       "| 4 | BA2442 | 3.822217 | 10.30104 |  9.835924 |  9.089096 | 12.08398 | 11.023523 | 10.65746 | 12.24617 | 11.09781 | ⋯ | 2.742142 | 4.470195 | 3.514572 | 3.514572 | 5.852579 | 2.742142 | 2.742142 | 7.620637 | 4.934385 | 5.517125 |\n",
       "| 5 | BA2952 | 4.573491 | 10.61910 |  9.411147 |  9.202064 | 13.19920 |  6.895421 | 10.86450 | 11.47246 | 11.58256 | ⋯ | 2.742142 | 4.573491 | 2.742142 | 2.742142 | 6.305480 | 3.281712 | 2.742142 | 7.827609 | 4.692209 | 5.598022 |\n",
       "| 6 | BA2951 | 4.542784 | 10.16171 |  9.884716 |  9.207534 | 12.28846 |  8.327703 | 10.03167 | 10.53763 | 10.92717 | ⋯ | 2.742142 | 3.632933 | 4.350643 | 3.376946 | 6.391191 | 3.632933 | 2.742142 | 8.446833 | 4.922933 | 6.391191 |\n",
       "\n"
      ],
      "text/plain": [
       "  V1     ENSG00000000003.15 ENSG00000000419.13 ENSG00000000457.14\n",
       "1 BA2872 4.321210           11.01976            9.416260         \n",
       "2 BA2639 2.742142           10.55033            9.693798         \n",
       "3 BA2235 3.339225           10.41130           10.080552         \n",
       "4 BA2442 3.822217           10.30104            9.835924         \n",
       "5 BA2952 4.573491           10.61910            9.411147         \n",
       "6 BA2951 4.542784           10.16171            9.884716         \n",
       "  ENSG00000000460.17 ENSG00000000938.13 ENSG00000000971.16 ENSG00000001036.14\n",
       "1 10.048054          15.16717            4.949184          10.36116          \n",
       "2  9.603347          12.20667            3.722804          10.90154          \n",
       "3  8.531907          13.41539            6.305154          10.68426          \n",
       "4  9.089096          12.08398           11.023523          10.65746          \n",
       "5  9.202064          13.19920            6.895421          10.86450          \n",
       "6  9.207534          12.28846            8.327703          10.03167          \n",
       "  ENSG00000001084.13 ENSG00000001167.14 ⋯ ENSG00000288657.1 ENSG00000288658.1\n",
       "1 11.53313           11.64725           ⋯ 2.742142          3.364380         \n",
       "2 10.92715           11.25755           ⋯ 2.742142          2.742142         \n",
       "3 11.23711           11.27008           ⋯ 2.742142          5.094127         \n",
       "4 12.24617           11.09781           ⋯ 2.742142          4.470195         \n",
       "5 11.47246           11.58256           ⋯ 2.742142          4.573491         \n",
       "6 10.53763           10.92717           ⋯ 2.742142          3.632933         \n",
       "  ENSG00000288660.1 ENSG00000288662.1 ENSG00000288663.1 ENSG00000288667.1\n",
       "1 4.213543          2.742142          6.094723          2.742142         \n",
       "2 3.867678          3.547843          6.402471          2.742142         \n",
       "3 3.762327          2.742142          6.239580          2.742142         \n",
       "4 3.514572          3.514572          5.852579          2.742142         \n",
       "5 2.742142          2.742142          6.305480          3.281712         \n",
       "6 4.350643          3.376946          6.391191          3.632933         \n",
       "  ENSG00000288669.1 ENSG00000288670.1 ENSG00000288674.1 ENSG00000288675.1\n",
       "1 2.742142          7.460952          5.009707          4.213543         \n",
       "2 3.315510          7.552110          5.610915          5.402739         \n",
       "3 2.742142          7.612192          5.327893          5.527382         \n",
       "4 2.742142          7.620637          4.934385          5.517125         \n",
       "5 2.742142          7.827609          4.692209          5.598022         \n",
       "6 2.742142          8.446833          4.922933          6.391191         "
      ]
     },
     "metadata": {},
     "output_type": "display_data"
    }
   ],
   "source": [
    "head(corrected)"
   ]
  },
  {
   "cell_type": "code",
   "execution_count": 23,
   "id": "662cdfff",
   "metadata": {
    "vscode": {
     "languageId": "r"
    }
   },
   "outputs": [
    {
     "name": "stderr",
     "output_type": "stream",
     "text": [
      "Selecting most variable 2000 genes...\n",
      "\n"
     ]
    }
   ],
   "source": [
    "rownames(corrected) <- corrected[, 1]\n",
    "        corrected <- corrected[, -1]\n",
    "\n",
    "        message(\"Selecting most variable 2000 genes...\")\n",
    "        # selected most variable 2000 genes\n",
    "        vars <- apply(corrected, 2, var)\n",
    "        corrected_2000 <- corrected[,names(vars[order(vars, decreasing = T)[1:2000]])]\n"
   ]
  },
  {
   "cell_type": "code",
   "execution_count": 1,
   "id": "55497fa8",
   "metadata": {
    "vscode": {
     "languageId": "r"
    }
   },
   "outputs": [
    {
     "ename": "ERROR",
     "evalue": "Error in head(corrected_2000): object 'corrected_2000' not found\n",
     "output_type": "error",
     "traceback": [
      "Error in head(corrected_2000): object 'corrected_2000' not found\nTraceback:\n",
      "1. head(corrected_2000)"
     ]
    }
   ],
   "source": [
    "head(corrected_2000)\n"
   ]
  },
  {
   "cell_type": "code",
   "execution_count": 25,
   "id": "4429bda2",
   "metadata": {
    "vscode": {
     "languageId": "r"
    }
   },
   "outputs": [],
   "source": [
    "tsne_df <- Rtsne((corrected_2000), pca = F)"
   ]
  },
  {
   "cell_type": "code",
   "execution_count": 1,
   "id": "40668747",
   "metadata": {
    "vscode": {
     "languageId": "r"
    }
   },
   "outputs": [],
   "source": [
    "sample_data <- readRDS(\"backend/cache/sample_data.rds\")"
   ]
  },
  {
   "cell_type": "code",
   "execution_count": 5,
   "id": "e8913969-4e93-4ea5-bfe0-8073c040cfeb",
   "metadata": {
    "vscode": {
     "languageId": "r"
    }
   },
   "outputs": [],
   "source": [
    "library(seAMLess)\n",
    "library(xbioc)"
   ]
  },
  {
   "cell_type": "code",
   "execution_count": 6,
   "id": "1045d77b-d7ae-421e-afb2-a90bd80eeb57",
   "metadata": {
    "vscode": {
     "languageId": "r"
    }
   },
   "outputs": [
    {
     "name": "stderr",
     "output_type": "stream",
     "text": [
      ">> Human ensembl ids are converted to symbols...\n",
      "\n",
      ">> Deconvoluting samples...\n",
      "\n",
      ">> Deconvolution completed...\n",
      "\n",
      ">> Predicting Venetoclax resistance...\n",
      "\n",
      ">> Done...\n",
      "\n"
     ]
    }
   ],
   "source": [
    "res <- seAMLess(sample_data)"
   ]
  },
  {
   "cell_type": "code",
   "execution_count": 4,
   "id": "c736c453",
   "metadata": {
    "vscode": {
     "languageId": "r"
    }
   },
   "outputs": [
    {
     "name": "stderr",
     "output_type": "stream",
     "text": [
      "Warning message:\n",
      "“package ‘data.table’ was built under R version 4.2.3”\n"
     ]
    }
   ],
   "source": [
    "library(data.table)\n",
    "corrected <- fread(\"backend/data/counts/normalised_and_corrected_counts.csv\", data.table = F)\n"
   ]
  },
  {
   "cell_type": "code",
   "execution_count": 8,
   "id": "304dcbaa",
   "metadata": {
    "vscode": {
     "languageId": "r"
    }
   },
   "outputs": [
    {
     "data": {
      "text/html": [
       "<table class=\"dataframe\">\n",
       "<caption>A data.frame: 1224 × 1</caption>\n",
       "<thead>\n",
       "\t<tr><th scope=col>V1</th></tr>\n",
       "\t<tr><th scope=col>&lt;chr&gt;</th></tr>\n",
       "</thead>\n",
       "<tbody>\n",
       "\t<tr><td>BA2872</td></tr>\n",
       "\t<tr><td>BA2639</td></tr>\n",
       "\t<tr><td>BA2235</td></tr>\n",
       "\t<tr><td>BA2442</td></tr>\n",
       "\t<tr><td>BA2952</td></tr>\n",
       "\t<tr><td>BA2951</td></tr>\n",
       "\t<tr><td>BA2704</td></tr>\n",
       "\t<tr><td>BA2425</td></tr>\n",
       "\t<tr><td>BA2497</td></tr>\n",
       "\t<tr><td>BA2906</td></tr>\n",
       "\t<tr><td>BA2201</td></tr>\n",
       "\t<tr><td>BA3023</td></tr>\n",
       "\t<tr><td>BA2718</td></tr>\n",
       "\t<tr><td>BA2087</td></tr>\n",
       "\t<tr><td>BA2068</td></tr>\n",
       "\t<tr><td>BA2798</td></tr>\n",
       "\t<tr><td>BA2036</td></tr>\n",
       "\t<tr><td>BA2093</td></tr>\n",
       "\t<tr><td>BA2603</td></tr>\n",
       "\t<tr><td>BA2414</td></tr>\n",
       "\t<tr><td>BA2020</td></tr>\n",
       "\t<tr><td>BA2242</td></tr>\n",
       "\t<tr><td>BA2567</td></tr>\n",
       "\t<tr><td>BA2691</td></tr>\n",
       "\t<tr><td>BA2033</td></tr>\n",
       "\t<tr><td>BA2162</td></tr>\n",
       "\t<tr><td>BA2839</td></tr>\n",
       "\t<tr><td>BA2828</td></tr>\n",
       "\t<tr><td>BA2063</td></tr>\n",
       "\t<tr><td>BA2505</td></tr>\n",
       "\t<tr><td>⋮</td></tr>\n",
       "\t<tr><td>BA3158</td></tr>\n",
       "\t<tr><td>BA3135</td></tr>\n",
       "\t<tr><td>BA3203</td></tr>\n",
       "\t<tr><td>BA3094</td></tr>\n",
       "\t<tr><td>BA2971</td></tr>\n",
       "\t<tr><td>BA3416</td></tr>\n",
       "\t<tr><td>BA3171</td></tr>\n",
       "\t<tr><td>BA3397</td></tr>\n",
       "\t<tr><td>BA3250</td></tr>\n",
       "\t<tr><td>BA3421</td></tr>\n",
       "\t<tr><td>BA3116</td></tr>\n",
       "\t<tr><td>BA3412</td></tr>\n",
       "\t<tr><td>BA3226</td></tr>\n",
       "\t<tr><td>BA3385</td></tr>\n",
       "\t<tr><td>BA3315</td></tr>\n",
       "\t<tr><td>BA3124</td></tr>\n",
       "\t<tr><td>BA3451</td></tr>\n",
       "\t<tr><td>BA3212</td></tr>\n",
       "\t<tr><td>BA3067</td></tr>\n",
       "\t<tr><td>BA3341</td></tr>\n",
       "\t<tr><td>BA3243</td></tr>\n",
       "\t<tr><td>BA3453</td></tr>\n",
       "\t<tr><td>BA3375</td></tr>\n",
       "\t<tr><td>BA3376</td></tr>\n",
       "\t<tr><td>BA3369</td></tr>\n",
       "\t<tr><td>BA3415</td></tr>\n",
       "\t<tr><td>BA3234</td></tr>\n",
       "\t<tr><td>BA3217</td></tr>\n",
       "\t<tr><td>BA3191</td></tr>\n",
       "\t<tr><td>BA2590</td></tr>\n",
       "</tbody>\n",
       "</table>\n"
      ],
      "text/latex": [
       "A data.frame: 1224 × 1\n",
       "\\begin{tabular}{l}\n",
       " V1\\\\\n",
       " <chr>\\\\\n",
       "\\hline\n",
       "\t BA2872\\\\\n",
       "\t BA2639\\\\\n",
       "\t BA2235\\\\\n",
       "\t BA2442\\\\\n",
       "\t BA2952\\\\\n",
       "\t BA2951\\\\\n",
       "\t BA2704\\\\\n",
       "\t BA2425\\\\\n",
       "\t BA2497\\\\\n",
       "\t BA2906\\\\\n",
       "\t BA2201\\\\\n",
       "\t BA3023\\\\\n",
       "\t BA2718\\\\\n",
       "\t BA2087\\\\\n",
       "\t BA2068\\\\\n",
       "\t BA2798\\\\\n",
       "\t BA2036\\\\\n",
       "\t BA2093\\\\\n",
       "\t BA2603\\\\\n",
       "\t BA2414\\\\\n",
       "\t BA2020\\\\\n",
       "\t BA2242\\\\\n",
       "\t BA2567\\\\\n",
       "\t BA2691\\\\\n",
       "\t BA2033\\\\\n",
       "\t BA2162\\\\\n",
       "\t BA2839\\\\\n",
       "\t BA2828\\\\\n",
       "\t BA2063\\\\\n",
       "\t BA2505\\\\\n",
       "\t ⋮\\\\\n",
       "\t BA3158\\\\\n",
       "\t BA3135\\\\\n",
       "\t BA3203\\\\\n",
       "\t BA3094\\\\\n",
       "\t BA2971\\\\\n",
       "\t BA3416\\\\\n",
       "\t BA3171\\\\\n",
       "\t BA3397\\\\\n",
       "\t BA3250\\\\\n",
       "\t BA3421\\\\\n",
       "\t BA3116\\\\\n",
       "\t BA3412\\\\\n",
       "\t BA3226\\\\\n",
       "\t BA3385\\\\\n",
       "\t BA3315\\\\\n",
       "\t BA3124\\\\\n",
       "\t BA3451\\\\\n",
       "\t BA3212\\\\\n",
       "\t BA3067\\\\\n",
       "\t BA3341\\\\\n",
       "\t BA3243\\\\\n",
       "\t BA3453\\\\\n",
       "\t BA3375\\\\\n",
       "\t BA3376\\\\\n",
       "\t BA3369\\\\\n",
       "\t BA3415\\\\\n",
       "\t BA3234\\\\\n",
       "\t BA3217\\\\\n",
       "\t BA3191\\\\\n",
       "\t BA2590\\\\\n",
       "\\end{tabular}\n"
      ],
      "text/markdown": [
       "\n",
       "A data.frame: 1224 × 1\n",
       "\n",
       "| V1 &lt;chr&gt; |\n",
       "|---|\n",
       "| BA2872 |\n",
       "| BA2639 |\n",
       "| BA2235 |\n",
       "| BA2442 |\n",
       "| BA2952 |\n",
       "| BA2951 |\n",
       "| BA2704 |\n",
       "| BA2425 |\n",
       "| BA2497 |\n",
       "| BA2906 |\n",
       "| BA2201 |\n",
       "| BA3023 |\n",
       "| BA2718 |\n",
       "| BA2087 |\n",
       "| BA2068 |\n",
       "| BA2798 |\n",
       "| BA2036 |\n",
       "| BA2093 |\n",
       "| BA2603 |\n",
       "| BA2414 |\n",
       "| BA2020 |\n",
       "| BA2242 |\n",
       "| BA2567 |\n",
       "| BA2691 |\n",
       "| BA2033 |\n",
       "| BA2162 |\n",
       "| BA2839 |\n",
       "| BA2828 |\n",
       "| BA2063 |\n",
       "| BA2505 |\n",
       "| ⋮ |\n",
       "| BA3158 |\n",
       "| BA3135 |\n",
       "| BA3203 |\n",
       "| BA3094 |\n",
       "| BA2971 |\n",
       "| BA3416 |\n",
       "| BA3171 |\n",
       "| BA3397 |\n",
       "| BA3250 |\n",
       "| BA3421 |\n",
       "| BA3116 |\n",
       "| BA3412 |\n",
       "| BA3226 |\n",
       "| BA3385 |\n",
       "| BA3315 |\n",
       "| BA3124 |\n",
       "| BA3451 |\n",
       "| BA3212 |\n",
       "| BA3067 |\n",
       "| BA3341 |\n",
       "| BA3243 |\n",
       "| BA3453 |\n",
       "| BA3375 |\n",
       "| BA3376 |\n",
       "| BA3369 |\n",
       "| BA3415 |\n",
       "| BA3234 |\n",
       "| BA3217 |\n",
       "| BA3191 |\n",
       "| BA2590 |\n",
       "\n"
      ],
      "text/plain": [
       "     V1    \n",
       "1    BA2872\n",
       "2    BA2639\n",
       "3    BA2235\n",
       "4    BA2442\n",
       "5    BA2952\n",
       "6    BA2951\n",
       "7    BA2704\n",
       "8    BA2425\n",
       "9    BA2497\n",
       "10   BA2906\n",
       "11   BA2201\n",
       "12   BA3023\n",
       "13   BA2718\n",
       "14   BA2087\n",
       "15   BA2068\n",
       "16   BA2798\n",
       "17   BA2036\n",
       "18   BA2093\n",
       "19   BA2603\n",
       "20   BA2414\n",
       "21   BA2020\n",
       "22   BA2242\n",
       "23   BA2567\n",
       "24   BA2691\n",
       "25   BA2033\n",
       "26   BA2162\n",
       "27   BA2839\n",
       "28   BA2828\n",
       "29   BA2063\n",
       "30   BA2505\n",
       "⋮    ⋮     \n",
       "1195 BA3158\n",
       "1196 BA3135\n",
       "1197 BA3203\n",
       "1198 BA3094\n",
       "1199 BA2971\n",
       "1200 BA3416\n",
       "1201 BA3171\n",
       "1202 BA3397\n",
       "1203 BA3250\n",
       "1204 BA3421\n",
       "1205 BA3116\n",
       "1206 BA3412\n",
       "1207 BA3226\n",
       "1208 BA3385\n",
       "1209 BA3315\n",
       "1210 BA3124\n",
       "1211 BA3451\n",
       "1212 BA3212\n",
       "1213 BA3067\n",
       "1214 BA3341\n",
       "1215 BA3243\n",
       "1216 BA3453\n",
       "1217 BA3375\n",
       "1218 BA3376\n",
       "1219 BA3369\n",
       "1220 BA3415\n",
       "1221 BA3234\n",
       "1222 BA3217\n",
       "1223 BA3191\n",
       "1224 BA2590"
      ]
     },
     "metadata": {},
     "output_type": "display_data"
    }
   ],
   "source": [
    "corrected[, 1, drop = F] "
   ]
  },
  {
   "cell_type": "code",
   "execution_count": 10,
   "id": "a87fc4aa-b4ea-4533-808b-9e7c36f20e8b",
   "metadata": {
    "vscode": {
     "languageId": "r"
    }
   },
   "outputs": [
    {
     "data": {
      "text/html": [
       "<table class=\"dataframe\">\n",
       "<caption>A matrix: 9 × 22 of type dbl</caption>\n",
       "<thead>\n",
       "\t<tr><th></th><th scope=col>CD14 Mono</th><th scope=col>GMP</th><th scope=col>T Cells</th><th scope=col>pre B</th><th scope=col>LMPP</th><th scope=col>B Cells</th><th scope=col>Early Eryth</th><th scope=col>EMP</th><th scope=col>Late Eryth</th><th scope=col>pDC</th><th scope=col>⋯</th><th scope=col>HSC</th><th scope=col>pro B</th><th scope=col>cDC</th><th scope=col>BaEoMa</th><th scope=col>Prog Mk</th><th scope=col>pre-pDC</th><th scope=col>NK Cells</th><th scope=col>pre-mDC</th><th scope=col>CD16 Mono</th><th scope=col>ASDC</th></tr>\n",
       "</thead>\n",
       "<tbody>\n",
       "\t<tr><th scope=row>TCGA.AB.2856.03A</th><td>0.1495886</td><td>0.7079107</td><td>0.022868623</td><td>0.00000000</td><td>0.000000000</td><td>0.000000e+00</td><td>0</td><td>0.07294555</td><td>0.0000000000</td><td>0.0466865540</td><td>⋯</td><td>0.000000000</td><td>0.000000000</td><td>0</td><td>0</td><td>0</td><td>0</td><td>0</td><td>0</td><td>0.0000000000</td><td>0</td></tr>\n",
       "\t<tr><th scope=row>TCGA.AB.2849.03A</th><td>0.0000000</td><td>0.0000000</td><td>0.000000000</td><td>0.00000000</td><td>0.015445621</td><td>0.000000e+00</td><td>0</td><td>0.11223569</td><td>0.3807434812</td><td>0.0000000000</td><td>⋯</td><td>0.186196361</td><td>0.193966609</td><td>0</td><td>0</td><td>0</td><td>0</td><td>0</td><td>0</td><td>0.0000000000</td><td>0</td></tr>\n",
       "\t<tr><th scope=row>TCGA.AB.2971.03A</th><td>0.5494418</td><td>0.4462562</td><td>0.002898678</td><td>0.00000000</td><td>0.000000000</td><td>0.000000e+00</td><td>0</td><td>0.00000000</td><td>0.0000000000</td><td>0.0008416826</td><td>⋯</td><td>0.000000000</td><td>0.000000000</td><td>0</td><td>0</td><td>0</td><td>0</td><td>0</td><td>0</td><td>0.0005616702</td><td>0</td></tr>\n",
       "\t<tr><th scope=row>TCGA.AB.2930.03A</th><td>0.0000000</td><td>0.4698555</td><td>0.000000000</td><td>0.00000000</td><td>0.180267321</td><td>0.000000e+00</td><td>0</td><td>0.00000000</td><td>0.0000000000</td><td>0.0000000000</td><td>⋯</td><td>0.000000000</td><td>0.000000000</td><td>0</td><td>0</td><td>0</td><td>0</td><td>0</td><td>0</td><td>0.0000000000</td><td>0</td></tr>\n",
       "\t<tr><th scope=row>TCGA.AB.2891.03A</th><td>0.0000000</td><td>0.6189622</td><td>0.018645484</td><td>0.01384012</td><td>0.000000000</td><td>5.411969e-05</td><td>0</td><td>0.00000000</td><td>0.0000000000</td><td>0.0000000000</td><td>⋯</td><td>0.003438197</td><td>0.039735320</td><td>0</td><td>0</td><td>0</td><td>0</td><td>0</td><td>0</td><td>0.0000000000</td><td>0</td></tr>\n",
       "\t<tr><th scope=row>TCGA.AB.2872.03A</th><td>0.0000000</td><td>0.9950150</td><td>0.000000000</td><td>0.00000000</td><td>0.000000000</td><td>0.000000e+00</td><td>0</td><td>0.00000000</td><td>0.0007807907</td><td>0.0000000000</td><td>⋯</td><td>0.000000000</td><td>0.000000000</td><td>0</td><td>0</td><td>0</td><td>0</td><td>0</td><td>0</td><td>0.0000000000</td><td>0</td></tr>\n",
       "\t<tr><th scope=row>TCGA.AB.2851.03A</th><td>0.9694910</td><td>0.0000000</td><td>0.000000000</td><td>0.00000000</td><td>0.005906064</td><td>0.000000e+00</td><td>0</td><td>0.00000000</td><td>0.0000000000</td><td>0.0000000000</td><td>⋯</td><td>0.024602901</td><td>0.000000000</td><td>0</td><td>0</td><td>0</td><td>0</td><td>0</td><td>0</td><td>0.0000000000</td><td>0</td></tr>\n",
       "\t<tr><th scope=row>TCGA.AB.3011.03A</th><td>0.0000000</td><td>0.5353901</td><td>0.000000000</td><td>0.00000000</td><td>0.464609856</td><td>0.000000e+00</td><td>0</td><td>0.00000000</td><td>0.0000000000</td><td>0.0000000000</td><td>⋯</td><td>0.000000000</td><td>0.000000000</td><td>0</td><td>0</td><td>0</td><td>0</td><td>0</td><td>0</td><td>0.0000000000</td><td>0</td></tr>\n",
       "\t<tr><th scope=row>TCGA.AB.2949.03B</th><td>0.1701781</td><td>0.0000000</td><td>0.000000000</td><td>0.05048254</td><td>0.000000000</td><td>0.000000e+00</td><td>0</td><td>0.00000000</td><td>0.0000000000</td><td>0.0016770783</td><td>⋯</td><td>0.627403995</td><td>0.001247606</td><td>0</td><td>0</td><td>0</td><td>0</td><td>0</td><td>0</td><td>0.0000000000</td><td>0</td></tr>\n",
       "</tbody>\n",
       "</table>\n"
      ],
      "text/latex": [
       "A matrix: 9 × 22 of type dbl\n",
       "\\begin{tabular}{r|lllllllllllllllllllll}\n",
       "  & CD14 Mono & GMP & T Cells & pre B & LMPP & B Cells & Early Eryth & EMP & Late Eryth & pDC & ⋯ & HSC & pro B & cDC & BaEoMa & Prog Mk & pre-pDC & NK Cells & pre-mDC & CD16 Mono & ASDC\\\\\n",
       "\\hline\n",
       "\tTCGA.AB.2856.03A & 0.1495886 & 0.7079107 & 0.022868623 & 0.00000000 & 0.000000000 & 0.000000e+00 & 0 & 0.07294555 & 0.0000000000 & 0.0466865540 & ⋯ & 0.000000000 & 0.000000000 & 0 & 0 & 0 & 0 & 0 & 0 & 0.0000000000 & 0\\\\\n",
       "\tTCGA.AB.2849.03A & 0.0000000 & 0.0000000 & 0.000000000 & 0.00000000 & 0.015445621 & 0.000000e+00 & 0 & 0.11223569 & 0.3807434812 & 0.0000000000 & ⋯ & 0.186196361 & 0.193966609 & 0 & 0 & 0 & 0 & 0 & 0 & 0.0000000000 & 0\\\\\n",
       "\tTCGA.AB.2971.03A & 0.5494418 & 0.4462562 & 0.002898678 & 0.00000000 & 0.000000000 & 0.000000e+00 & 0 & 0.00000000 & 0.0000000000 & 0.0008416826 & ⋯ & 0.000000000 & 0.000000000 & 0 & 0 & 0 & 0 & 0 & 0 & 0.0005616702 & 0\\\\\n",
       "\tTCGA.AB.2930.03A & 0.0000000 & 0.4698555 & 0.000000000 & 0.00000000 & 0.180267321 & 0.000000e+00 & 0 & 0.00000000 & 0.0000000000 & 0.0000000000 & ⋯ & 0.000000000 & 0.000000000 & 0 & 0 & 0 & 0 & 0 & 0 & 0.0000000000 & 0\\\\\n",
       "\tTCGA.AB.2891.03A & 0.0000000 & 0.6189622 & 0.018645484 & 0.01384012 & 0.000000000 & 5.411969e-05 & 0 & 0.00000000 & 0.0000000000 & 0.0000000000 & ⋯ & 0.003438197 & 0.039735320 & 0 & 0 & 0 & 0 & 0 & 0 & 0.0000000000 & 0\\\\\n",
       "\tTCGA.AB.2872.03A & 0.0000000 & 0.9950150 & 0.000000000 & 0.00000000 & 0.000000000 & 0.000000e+00 & 0 & 0.00000000 & 0.0007807907 & 0.0000000000 & ⋯ & 0.000000000 & 0.000000000 & 0 & 0 & 0 & 0 & 0 & 0 & 0.0000000000 & 0\\\\\n",
       "\tTCGA.AB.2851.03A & 0.9694910 & 0.0000000 & 0.000000000 & 0.00000000 & 0.005906064 & 0.000000e+00 & 0 & 0.00000000 & 0.0000000000 & 0.0000000000 & ⋯ & 0.024602901 & 0.000000000 & 0 & 0 & 0 & 0 & 0 & 0 & 0.0000000000 & 0\\\\\n",
       "\tTCGA.AB.3011.03A & 0.0000000 & 0.5353901 & 0.000000000 & 0.00000000 & 0.464609856 & 0.000000e+00 & 0 & 0.00000000 & 0.0000000000 & 0.0000000000 & ⋯ & 0.000000000 & 0.000000000 & 0 & 0 & 0 & 0 & 0 & 0 & 0.0000000000 & 0\\\\\n",
       "\tTCGA.AB.2949.03B & 0.1701781 & 0.0000000 & 0.000000000 & 0.05048254 & 0.000000000 & 0.000000e+00 & 0 & 0.00000000 & 0.0000000000 & 0.0016770783 & ⋯ & 0.627403995 & 0.001247606 & 0 & 0 & 0 & 0 & 0 & 0 & 0.0000000000 & 0\\\\\n",
       "\\end{tabular}\n"
      ],
      "text/markdown": [
       "\n",
       "A matrix: 9 × 22 of type dbl\n",
       "\n",
       "| <!--/--> | CD14 Mono | GMP | T Cells | pre B | LMPP | B Cells | Early Eryth | EMP | Late Eryth | pDC | ⋯ | HSC | pro B | cDC | BaEoMa | Prog Mk | pre-pDC | NK Cells | pre-mDC | CD16 Mono | ASDC |\n",
       "|---|---|---|---|---|---|---|---|---|---|---|---|---|---|---|---|---|---|---|---|---|---|\n",
       "| TCGA.AB.2856.03A | 0.1495886 | 0.7079107 | 0.022868623 | 0.00000000 | 0.000000000 | 0.000000e+00 | 0 | 0.07294555 | 0.0000000000 | 0.0466865540 | ⋯ | 0.000000000 | 0.000000000 | 0 | 0 | 0 | 0 | 0 | 0 | 0.0000000000 | 0 |\n",
       "| TCGA.AB.2849.03A | 0.0000000 | 0.0000000 | 0.000000000 | 0.00000000 | 0.015445621 | 0.000000e+00 | 0 | 0.11223569 | 0.3807434812 | 0.0000000000 | ⋯ | 0.186196361 | 0.193966609 | 0 | 0 | 0 | 0 | 0 | 0 | 0.0000000000 | 0 |\n",
       "| TCGA.AB.2971.03A | 0.5494418 | 0.4462562 | 0.002898678 | 0.00000000 | 0.000000000 | 0.000000e+00 | 0 | 0.00000000 | 0.0000000000 | 0.0008416826 | ⋯ | 0.000000000 | 0.000000000 | 0 | 0 | 0 | 0 | 0 | 0 | 0.0005616702 | 0 |\n",
       "| TCGA.AB.2930.03A | 0.0000000 | 0.4698555 | 0.000000000 | 0.00000000 | 0.180267321 | 0.000000e+00 | 0 | 0.00000000 | 0.0000000000 | 0.0000000000 | ⋯ | 0.000000000 | 0.000000000 | 0 | 0 | 0 | 0 | 0 | 0 | 0.0000000000 | 0 |\n",
       "| TCGA.AB.2891.03A | 0.0000000 | 0.6189622 | 0.018645484 | 0.01384012 | 0.000000000 | 5.411969e-05 | 0 | 0.00000000 | 0.0000000000 | 0.0000000000 | ⋯ | 0.003438197 | 0.039735320 | 0 | 0 | 0 | 0 | 0 | 0 | 0.0000000000 | 0 |\n",
       "| TCGA.AB.2872.03A | 0.0000000 | 0.9950150 | 0.000000000 | 0.00000000 | 0.000000000 | 0.000000e+00 | 0 | 0.00000000 | 0.0007807907 | 0.0000000000 | ⋯ | 0.000000000 | 0.000000000 | 0 | 0 | 0 | 0 | 0 | 0 | 0.0000000000 | 0 |\n",
       "| TCGA.AB.2851.03A | 0.9694910 | 0.0000000 | 0.000000000 | 0.00000000 | 0.005906064 | 0.000000e+00 | 0 | 0.00000000 | 0.0000000000 | 0.0000000000 | ⋯ | 0.024602901 | 0.000000000 | 0 | 0 | 0 | 0 | 0 | 0 | 0.0000000000 | 0 |\n",
       "| TCGA.AB.3011.03A | 0.0000000 | 0.5353901 | 0.000000000 | 0.00000000 | 0.464609856 | 0.000000e+00 | 0 | 0.00000000 | 0.0000000000 | 0.0000000000 | ⋯ | 0.000000000 | 0.000000000 | 0 | 0 | 0 | 0 | 0 | 0 | 0.0000000000 | 0 |\n",
       "| TCGA.AB.2949.03B | 0.1701781 | 0.0000000 | 0.000000000 | 0.05048254 | 0.000000000 | 0.000000e+00 | 0 | 0.00000000 | 0.0000000000 | 0.0016770783 | ⋯ | 0.627403995 | 0.001247606 | 0 | 0 | 0 | 0 | 0 | 0 | 0.0000000000 | 0 |\n",
       "\n"
      ],
      "text/plain": [
       "                 CD14 Mono GMP       T Cells     pre B      LMPP       \n",
       "TCGA.AB.2856.03A 0.1495886 0.7079107 0.022868623 0.00000000 0.000000000\n",
       "TCGA.AB.2849.03A 0.0000000 0.0000000 0.000000000 0.00000000 0.015445621\n",
       "TCGA.AB.2971.03A 0.5494418 0.4462562 0.002898678 0.00000000 0.000000000\n",
       "TCGA.AB.2930.03A 0.0000000 0.4698555 0.000000000 0.00000000 0.180267321\n",
       "TCGA.AB.2891.03A 0.0000000 0.6189622 0.018645484 0.01384012 0.000000000\n",
       "TCGA.AB.2872.03A 0.0000000 0.9950150 0.000000000 0.00000000 0.000000000\n",
       "TCGA.AB.2851.03A 0.9694910 0.0000000 0.000000000 0.00000000 0.005906064\n",
       "TCGA.AB.3011.03A 0.0000000 0.5353901 0.000000000 0.00000000 0.464609856\n",
       "TCGA.AB.2949.03B 0.1701781 0.0000000 0.000000000 0.05048254 0.000000000\n",
       "                 B Cells      Early Eryth EMP        Late Eryth   pDC         \n",
       "TCGA.AB.2856.03A 0.000000e+00 0           0.07294555 0.0000000000 0.0466865540\n",
       "TCGA.AB.2849.03A 0.000000e+00 0           0.11223569 0.3807434812 0.0000000000\n",
       "TCGA.AB.2971.03A 0.000000e+00 0           0.00000000 0.0000000000 0.0008416826\n",
       "TCGA.AB.2930.03A 0.000000e+00 0           0.00000000 0.0000000000 0.0000000000\n",
       "TCGA.AB.2891.03A 5.411969e-05 0           0.00000000 0.0000000000 0.0000000000\n",
       "TCGA.AB.2872.03A 0.000000e+00 0           0.00000000 0.0007807907 0.0000000000\n",
       "TCGA.AB.2851.03A 0.000000e+00 0           0.00000000 0.0000000000 0.0000000000\n",
       "TCGA.AB.3011.03A 0.000000e+00 0           0.00000000 0.0000000000 0.0000000000\n",
       "TCGA.AB.2949.03B 0.000000e+00 0           0.00000000 0.0000000000 0.0016770783\n",
       "                 ⋯ HSC         pro B       cDC BaEoMa Prog Mk pre-pDC NK Cells\n",
       "TCGA.AB.2856.03A ⋯ 0.000000000 0.000000000 0   0      0       0       0       \n",
       "TCGA.AB.2849.03A ⋯ 0.186196361 0.193966609 0   0      0       0       0       \n",
       "TCGA.AB.2971.03A ⋯ 0.000000000 0.000000000 0   0      0       0       0       \n",
       "TCGA.AB.2930.03A ⋯ 0.000000000 0.000000000 0   0      0       0       0       \n",
       "TCGA.AB.2891.03A ⋯ 0.003438197 0.039735320 0   0      0       0       0       \n",
       "TCGA.AB.2872.03A ⋯ 0.000000000 0.000000000 0   0      0       0       0       \n",
       "TCGA.AB.2851.03A ⋯ 0.024602901 0.000000000 0   0      0       0       0       \n",
       "TCGA.AB.3011.03A ⋯ 0.000000000 0.000000000 0   0      0       0       0       \n",
       "TCGA.AB.2949.03B ⋯ 0.627403995 0.001247606 0   0      0       0       0       \n",
       "                 pre-mDC CD16 Mono    ASDC\n",
       "TCGA.AB.2856.03A 0       0.0000000000 0   \n",
       "TCGA.AB.2849.03A 0       0.0000000000 0   \n",
       "TCGA.AB.2971.03A 0       0.0005616702 0   \n",
       "TCGA.AB.2930.03A 0       0.0000000000 0   \n",
       "TCGA.AB.2891.03A 0       0.0000000000 0   \n",
       "TCGA.AB.2872.03A 0       0.0000000000 0   \n",
       "TCGA.AB.2851.03A 0       0.0000000000 0   \n",
       "TCGA.AB.3011.03A 0       0.0000000000 0   \n",
       "TCGA.AB.2949.03B 0       0.0000000000 0   "
      ]
     },
     "metadata": {},
     "output_type": "display_data"
    }
   ],
   "source": [
    "\n",
    "res$Deconvolution "
   ]
  },
  {
   "cell_type": "code",
   "execution_count": 46,
   "id": "3cbbbcff",
   "metadata": {
    "vscode": {
     "languageId": "r"
    }
   },
   "outputs": [
    {
     "data": {
      "text/html": [
       "<table class=\"dataframe\">\n",
       "<caption>A data.frame: 6 × 1225</caption>\n",
       "<thead>\n",
       "\t<tr><th></th><th scope=col>V1</th><th scope=col>BA2872</th><th scope=col>BA2639</th><th scope=col>BA2235</th><th scope=col>BA2442</th><th scope=col>BA2952</th><th scope=col>BA2951</th><th scope=col>BA2704</th><th scope=col>BA2425</th><th scope=col>BA2497</th><th scope=col>⋯</th><th scope=col>BA3243</th><th scope=col>BA3453</th><th scope=col>BA3375</th><th scope=col>BA3376</th><th scope=col>BA3369</th><th scope=col>BA3415</th><th scope=col>BA3234</th><th scope=col>BA3217</th><th scope=col>BA3191</th><th scope=col>BA2590</th></tr>\n",
       "\t<tr><th></th><th scope=col>&lt;chr&gt;</th><th scope=col>&lt;int&gt;</th><th scope=col>&lt;int&gt;</th><th scope=col>&lt;int&gt;</th><th scope=col>&lt;int&gt;</th><th scope=col>&lt;int&gt;</th><th scope=col>&lt;int&gt;</th><th scope=col>&lt;int&gt;</th><th scope=col>&lt;int&gt;</th><th scope=col>&lt;int&gt;</th><th scope=col>⋯</th><th scope=col>&lt;int&gt;</th><th scope=col>&lt;int&gt;</th><th scope=col>&lt;int&gt;</th><th scope=col>&lt;int&gt;</th><th scope=col>&lt;int&gt;</th><th scope=col>&lt;int&gt;</th><th scope=col>&lt;int&gt;</th><th scope=col>&lt;int&gt;</th><th scope=col>&lt;int&gt;</th><th scope=col>&lt;int&gt;</th></tr>\n",
       "</thead>\n",
       "<tbody>\n",
       "\t<tr><th scope=row>1</th><td>ENSG00000000003.15</td><td>    5</td><td>   0</td><td>    1</td><td>   3</td><td>    8</td><td>   8</td><td>  36</td><td>   8</td><td>    1</td><td>⋯</td><td>    0</td><td>   5</td><td>   4</td><td>  14</td><td>    0</td><td>   8</td><td>    2</td><td>   1</td><td>    1</td><td>   8</td></tr>\n",
       "\t<tr><th scope=row>2</th><td>ENSG00000000005.6 </td><td>    0</td><td>   0</td><td>    0</td><td>   0</td><td>    1</td><td>   0</td><td>   0</td><td>   0</td><td>    0</td><td>⋯</td><td>    0</td><td>   0</td><td>   0</td><td>   0</td><td>    0</td><td>   0</td><td>    0</td><td>   0</td><td>    0</td><td>   0</td></tr>\n",
       "\t<tr><th scope=row>3</th><td>ENSG00000000419.13</td><td> 1768</td><td>1547</td><td> 1265</td><td>1390</td><td> 1800</td><td> 926</td><td>1253</td><td>1306</td><td> 1320</td><td>⋯</td><td> 2068</td><td>1401</td><td>1127</td><td>1572</td><td> 2977</td><td>3636</td><td> 2224</td><td>1287</td><td> 1407</td><td>1304</td></tr>\n",
       "\t<tr><th scope=row>4</th><td>ENSG00000000457.14</td><td>  569</td><td> 812</td><td> 1090</td><td> 977</td><td>  783</td><td> 754</td><td> 660</td><td> 976</td><td>  400</td><td>⋯</td><td> 1118</td><td> 519</td><td> 726</td><td>1166</td><td> 1210</td><td>1335</td><td> 1173</td><td> 526</td><td>  654</td><td> 581</td></tr>\n",
       "\t<tr><th scope=row>5</th><td>ENSG00000000460.17</td><td>  835</td><td> 569</td><td>  272</td><td> 399</td><td>  581</td><td> 327</td><td> 498</td><td> 438</td><td>  386</td><td>⋯</td><td>  452</td><td> 178</td><td> 494</td><td> 565</td><td>  714</td><td>1831</td><td>  843</td><td> 246</td><td>  286</td><td> 530</td></tr>\n",
       "\t<tr><th scope=row>6</th><td>ENSG00000000938.13</td><td>37343</td><td>7131</td><td>13511</td><td>7156</td><td>14300</td><td>6138</td><td>1459</td><td>8545</td><td>22216</td><td>⋯</td><td>14393</td><td>6532</td><td>2304</td><td>4168</td><td>27069</td><td>9322</td><td>96437</td><td>2388</td><td>30321</td><td>2517</td></tr>\n",
       "</tbody>\n",
       "</table>\n"
      ],
      "text/latex": [
       "A data.frame: 6 × 1225\n",
       "\\begin{tabular}{r|lllllllllllllllllllll}\n",
       "  & V1 & BA2872 & BA2639 & BA2235 & BA2442 & BA2952 & BA2951 & BA2704 & BA2425 & BA2497 & ⋯ & BA3243 & BA3453 & BA3375 & BA3376 & BA3369 & BA3415 & BA3234 & BA3217 & BA3191 & BA2590\\\\\n",
       "  & <chr> & <int> & <int> & <int> & <int> & <int> & <int> & <int> & <int> & <int> & ⋯ & <int> & <int> & <int> & <int> & <int> & <int> & <int> & <int> & <int> & <int>\\\\\n",
       "\\hline\n",
       "\t1 & ENSG00000000003.15 &     5 &    0 &     1 &    3 &     8 &    8 &   36 &    8 &     1 & ⋯ &     0 &    5 &    4 &   14 &     0 &    8 &     2 &    1 &     1 &    8\\\\\n",
       "\t2 & ENSG00000000005.6  &     0 &    0 &     0 &    0 &     1 &    0 &    0 &    0 &     0 & ⋯ &     0 &    0 &    0 &    0 &     0 &    0 &     0 &    0 &     0 &    0\\\\\n",
       "\t3 & ENSG00000000419.13 &  1768 & 1547 &  1265 & 1390 &  1800 &  926 & 1253 & 1306 &  1320 & ⋯ &  2068 & 1401 & 1127 & 1572 &  2977 & 3636 &  2224 & 1287 &  1407 & 1304\\\\\n",
       "\t4 & ENSG00000000457.14 &   569 &  812 &  1090 &  977 &   783 &  754 &  660 &  976 &   400 & ⋯ &  1118 &  519 &  726 & 1166 &  1210 & 1335 &  1173 &  526 &   654 &  581\\\\\n",
       "\t5 & ENSG00000000460.17 &   835 &  569 &   272 &  399 &   581 &  327 &  498 &  438 &   386 & ⋯ &   452 &  178 &  494 &  565 &   714 & 1831 &   843 &  246 &   286 &  530\\\\\n",
       "\t6 & ENSG00000000938.13 & 37343 & 7131 & 13511 & 7156 & 14300 & 6138 & 1459 & 8545 & 22216 & ⋯ & 14393 & 6532 & 2304 & 4168 & 27069 & 9322 & 96437 & 2388 & 30321 & 2517\\\\\n",
       "\\end{tabular}\n"
      ],
      "text/markdown": [
       "\n",
       "A data.frame: 6 × 1225\n",
       "\n",
       "| <!--/--> | V1 &lt;chr&gt; | BA2872 &lt;int&gt; | BA2639 &lt;int&gt; | BA2235 &lt;int&gt; | BA2442 &lt;int&gt; | BA2952 &lt;int&gt; | BA2951 &lt;int&gt; | BA2704 &lt;int&gt; | BA2425 &lt;int&gt; | BA2497 &lt;int&gt; | ⋯ ⋯ | BA3243 &lt;int&gt; | BA3453 &lt;int&gt; | BA3375 &lt;int&gt; | BA3376 &lt;int&gt; | BA3369 &lt;int&gt; | BA3415 &lt;int&gt; | BA3234 &lt;int&gt; | BA3217 &lt;int&gt; | BA3191 &lt;int&gt; | BA2590 &lt;int&gt; |\n",
       "|---|---|---|---|---|---|---|---|---|---|---|---|---|---|---|---|---|---|---|---|---|---|\n",
       "| 1 | ENSG00000000003.15 |     5 |    0 |     1 |    3 |     8 |    8 |   36 |    8 |     1 | ⋯ |     0 |    5 |    4 |   14 |     0 |    8 |     2 |    1 |     1 |    8 |\n",
       "| 2 | ENSG00000000005.6  |     0 |    0 |     0 |    0 |     1 |    0 |    0 |    0 |     0 | ⋯ |     0 |    0 |    0 |    0 |     0 |    0 |     0 |    0 |     0 |    0 |\n",
       "| 3 | ENSG00000000419.13 |  1768 | 1547 |  1265 | 1390 |  1800 |  926 | 1253 | 1306 |  1320 | ⋯ |  2068 | 1401 | 1127 | 1572 |  2977 | 3636 |  2224 | 1287 |  1407 | 1304 |\n",
       "| 4 | ENSG00000000457.14 |   569 |  812 |  1090 |  977 |   783 |  754 |  660 |  976 |   400 | ⋯ |  1118 |  519 |  726 | 1166 |  1210 | 1335 |  1173 |  526 |   654 |  581 |\n",
       "| 5 | ENSG00000000460.17 |   835 |  569 |   272 |  399 |   581 |  327 |  498 |  438 |   386 | ⋯ |   452 |  178 |  494 |  565 |   714 | 1831 |   843 |  246 |   286 |  530 |\n",
       "| 6 | ENSG00000000938.13 | 37343 | 7131 | 13511 | 7156 | 14300 | 6138 | 1459 | 8545 | 22216 | ⋯ | 14393 | 6532 | 2304 | 4168 | 27069 | 9322 | 96437 | 2388 | 30321 | 2517 |\n",
       "\n"
      ],
      "text/plain": [
       "  V1                 BA2872 BA2639 BA2235 BA2442 BA2952 BA2951 BA2704 BA2425\n",
       "1 ENSG00000000003.15     5     0       1     3       8     8     36      8  \n",
       "2 ENSG00000000005.6      0     0       0     0       1     0      0      0  \n",
       "3 ENSG00000000419.13  1768  1547    1265  1390    1800   926   1253   1306  \n",
       "4 ENSG00000000457.14   569   812    1090   977     783   754    660    976  \n",
       "5 ENSG00000000460.17   835   569     272   399     581   327    498    438  \n",
       "6 ENSG00000000938.13 37343  7131   13511  7156   14300  6138   1459   8545  \n",
       "  BA2497 ⋯ BA3243 BA3453 BA3375 BA3376 BA3369 BA3415 BA3234 BA3217 BA3191\n",
       "1     1  ⋯     0     5      4     14       0     8       2     1       1 \n",
       "2     0  ⋯     0     0      0      0       0     0       0     0       0 \n",
       "3  1320  ⋯  2068  1401   1127   1572    2977  3636    2224  1287    1407 \n",
       "4   400  ⋯  1118   519    726   1166    1210  1335    1173   526     654 \n",
       "5   386  ⋯   452   178    494    565     714  1831     843   246     286 \n",
       "6 22216  ⋯ 14393  6532   2304   4168   27069  9322   96437  2388   30321 \n",
       "  BA2590\n",
       "1    8  \n",
       "2    0  \n",
       "3 1304  \n",
       "4  581  \n",
       "5  530  \n",
       "6 2517  "
      ]
     },
     "metadata": {},
     "output_type": "display_data"
    }
   ],
   "source": [
    "library(data.table)\n",
    "uncorrected <- fread(\"backend/data/counts/uncorrected_counts.csv\", data.table = F)\n",
    "head(uncorrected)\n"
   ]
  },
  {
   "cell_type": "code",
   "execution_count": 29,
   "id": "6016f5e3",
   "metadata": {
    "vscode": {
     "languageId": "r"
    }
   },
   "outputs": [],
   "source": [
    "metadata <- fread(\"backend/data/meta.csv\", data.table = F)"
   ]
  },
  {
   "cell_type": "code",
   "execution_count": 47,
   "id": "2ba728c4",
   "metadata": {
    "vscode": {
     "languageId": "r"
    }
   },
   "outputs": [
    {
     "data": {
      "text/html": [
       "<table class=\"dataframe\">\n",
       "<caption>A data.frame: 6 × 10</caption>\n",
       "<thead>\n",
       "\t<tr><th></th><th scope=col>X</th><th scope=col>TCGA.AB.2856.03A</th><th scope=col>TCGA.AB.2849.03A</th><th scope=col>TCGA.AB.2971.03A</th><th scope=col>TCGA.AB.2930.03A</th><th scope=col>TCGA.AB.2891.03A</th><th scope=col>TCGA.AB.2872.03A</th><th scope=col>TCGA.AB.2851.03A</th><th scope=col>TCGA.AB.3011.03A</th><th scope=col>TCGA.AB.2949.03B</th></tr>\n",
       "\t<tr><th></th><th scope=col>&lt;chr&gt;</th><th scope=col>&lt;int&gt;</th><th scope=col>&lt;int&gt;</th><th scope=col>&lt;int&gt;</th><th scope=col>&lt;int&gt;</th><th scope=col>&lt;int&gt;</th><th scope=col>&lt;int&gt;</th><th scope=col>&lt;int&gt;</th><th scope=col>&lt;int&gt;</th><th scope=col>&lt;int&gt;</th></tr>\n",
       "</thead>\n",
       "<tbody>\n",
       "\t<tr><th scope=row>1</th><td>ENSG00000000003.13</td><td>    7</td><td>   9</td><td>   1</td><td>   1</td><td>   4</td><td>  14</td><td>    3</td><td>  1</td><td>  34</td></tr>\n",
       "\t<tr><th scope=row>2</th><td>ENSG00000000005.5 </td><td>    0</td><td>   1</td><td>   0</td><td>   0</td><td>   0</td><td>   0</td><td>    0</td><td>  0</td><td>   1</td></tr>\n",
       "\t<tr><th scope=row>3</th><td>ENSG00000000419.11</td><td>  689</td><td> 661</td><td> 555</td><td>1034</td><td> 574</td><td> 463</td><td>  630</td><td>481</td><td>1004</td></tr>\n",
       "\t<tr><th scope=row>4</th><td>ENSG00000000457.12</td><td>  633</td><td>1434</td><td> 855</td><td>1061</td><td> 796</td><td> 795</td><td>  705</td><td>659</td><td>1009</td></tr>\n",
       "\t<tr><th scope=row>5</th><td>ENSG00000000460.15</td><td>  372</td><td>1211</td><td> 519</td><td>1011</td><td> 856</td><td> 671</td><td>  318</td><td>590</td><td> 732</td></tr>\n",
       "\t<tr><th scope=row>6</th><td>ENSG00000000938.11</td><td>14712</td><td> 405</td><td>6076</td><td>5356</td><td>1885</td><td>4203</td><td>23515</td><td>474</td><td>2699</td></tr>\n",
       "</tbody>\n",
       "</table>\n"
      ],
      "text/latex": [
       "A data.frame: 6 × 10\n",
       "\\begin{tabular}{r|llllllllll}\n",
       "  & X & TCGA.AB.2856.03A & TCGA.AB.2849.03A & TCGA.AB.2971.03A & TCGA.AB.2930.03A & TCGA.AB.2891.03A & TCGA.AB.2872.03A & TCGA.AB.2851.03A & TCGA.AB.3011.03A & TCGA.AB.2949.03B\\\\\n",
       "  & <chr> & <int> & <int> & <int> & <int> & <int> & <int> & <int> & <int> & <int>\\\\\n",
       "\\hline\n",
       "\t1 & ENSG00000000003.13 &     7 &    9 &    1 &    1 &    4 &   14 &     3 &   1 &   34\\\\\n",
       "\t2 & ENSG00000000005.5  &     0 &    1 &    0 &    0 &    0 &    0 &     0 &   0 &    1\\\\\n",
       "\t3 & ENSG00000000419.11 &   689 &  661 &  555 & 1034 &  574 &  463 &   630 & 481 & 1004\\\\\n",
       "\t4 & ENSG00000000457.12 &   633 & 1434 &  855 & 1061 &  796 &  795 &   705 & 659 & 1009\\\\\n",
       "\t5 & ENSG00000000460.15 &   372 & 1211 &  519 & 1011 &  856 &  671 &   318 & 590 &  732\\\\\n",
       "\t6 & ENSG00000000938.11 & 14712 &  405 & 6076 & 5356 & 1885 & 4203 & 23515 & 474 & 2699\\\\\n",
       "\\end{tabular}\n"
      ],
      "text/markdown": [
       "\n",
       "A data.frame: 6 × 10\n",
       "\n",
       "| <!--/--> | X &lt;chr&gt; | TCGA.AB.2856.03A &lt;int&gt; | TCGA.AB.2849.03A &lt;int&gt; | TCGA.AB.2971.03A &lt;int&gt; | TCGA.AB.2930.03A &lt;int&gt; | TCGA.AB.2891.03A &lt;int&gt; | TCGA.AB.2872.03A &lt;int&gt; | TCGA.AB.2851.03A &lt;int&gt; | TCGA.AB.3011.03A &lt;int&gt; | TCGA.AB.2949.03B &lt;int&gt; |\n",
       "|---|---|---|---|---|---|---|---|---|---|---|\n",
       "| 1 | ENSG00000000003.13 |     7 |    9 |    1 |    1 |    4 |   14 |     3 |   1 |   34 |\n",
       "| 2 | ENSG00000000005.5  |     0 |    1 |    0 |    0 |    0 |    0 |     0 |   0 |    1 |\n",
       "| 3 | ENSG00000000419.11 |   689 |  661 |  555 | 1034 |  574 |  463 |   630 | 481 | 1004 |\n",
       "| 4 | ENSG00000000457.12 |   633 | 1434 |  855 | 1061 |  796 |  795 |   705 | 659 | 1009 |\n",
       "| 5 | ENSG00000000460.15 |   372 | 1211 |  519 | 1011 |  856 |  671 |   318 | 590 |  732 |\n",
       "| 6 | ENSG00000000938.11 | 14712 |  405 | 6076 | 5356 | 1885 | 4203 | 23515 | 474 | 2699 |\n",
       "\n"
      ],
      "text/plain": [
       "  X                  TCGA.AB.2856.03A TCGA.AB.2849.03A TCGA.AB.2971.03A\n",
       "1 ENSG00000000003.13     7               9                1            \n",
       "2 ENSG00000000005.5      0               1                0            \n",
       "3 ENSG00000000419.11   689             661              555            \n",
       "4 ENSG00000000457.12   633            1434              855            \n",
       "5 ENSG00000000460.15   372            1211              519            \n",
       "6 ENSG00000000938.11 14712             405             6076            \n",
       "  TCGA.AB.2930.03A TCGA.AB.2891.03A TCGA.AB.2872.03A TCGA.AB.2851.03A\n",
       "1    1                4               14                 3           \n",
       "2    0                0                0                 0           \n",
       "3 1034              574              463               630           \n",
       "4 1061              796              795               705           \n",
       "5 1011              856              671               318           \n",
       "6 5356             1885             4203             23515           \n",
       "  TCGA.AB.3011.03A TCGA.AB.2949.03B\n",
       "1   1                34            \n",
       "2   0                 1            \n",
       "3 481              1004            \n",
       "4 659              1009            \n",
       "5 590               732            \n",
       "6 474              2699            "
      ]
     },
     "metadata": {},
     "output_type": "display_data"
    }
   ],
   "source": [
    "sample_data <- readRDS(\"backend/cache/sample_data.rds\")\n",
    "head(sample_data)"
   ]
  },
  {
   "cell_type": "code",
   "execution_count": 40,
   "id": "850c76bf",
   "metadata": {
    "vscode": {
     "languageId": "r"
    }
   },
   "outputs": [
    {
     "data": {
      "text/html": [
       "<style>\n",
       ".list-inline {list-style: none; margin:0; padding: 0}\n",
       ".list-inline>li {display: inline-block}\n",
       ".list-inline>li:not(:last-child)::after {content: \"\\00b7\"; padding: 0 .5ex}\n",
       "</style>\n",
       "<ol class=list-inline><li>'ENSGR0000002586.16'</li><li>'ENSGR0000124333.13'</li><li>'ENSGR0000124334.15'</li><li>'ENSGR0000167393.15'</li><li>'ENSGR0000168939.9'</li><li>'ENSGR0000169084.11'</li><li>'ENSGR0000169093.13'</li><li>'ENSGR0000169100.11'</li><li>'ENSGR0000178605.11'</li><li>'ENSGR0000182162.8'</li><li>'ENSGR0000182378.11'</li><li>'ENSGR0000182484.13'</li><li>'ENSGR0000185203.10'</li><li>'ENSGR0000185291.9'</li><li>'ENSGR0000185960.11'</li><li>'ENSGR0000196433.10'</li><li>'ENSGR0000197976.9'</li><li>'ENSGR0000198223.13'</li><li>'ENSGR0000205755.9'</li><li>'ENSGR0000214717.8'</li><li>'ENSGR0000223274.4'</li><li>'ENSGR0000223484.5'</li><li>'ENSGR0000223511.4'</li><li>'ENSGR0000223571.4'</li><li>'ENSGR0000223773.5'</li><li>'ENSGR0000225661.5'</li><li>'ENSGR0000226179.4'</li><li>'ENSGR0000227159.6'</li><li>'ENSGR0000228410.4'</li><li>'ENSGR0000228572.5'</li><li>'ENSGR0000229232.4'</li><li>'ENSGR0000230542.4'</li><li>'ENSGR0000234622.4'</li><li>'ENSGR0000234958.4'</li><li>'ENSGR0000236017.6'</li><li>'ENSGR0000236871.5'</li><li>'ENSGR0000237040.4'</li><li>'ENSGR0000237531.4'</li><li>'ENSGR0000237801.4'</li><li>'ENSGR0000263835.4'</li><li>'ENSGR0000263980.4'</li><li>'ENSGR0000264510.4'</li><li>'ENSGR0000264819.4'</li><li>'ENSGR0000265658.4'</li><li>'ENSGR0000270726.4'</li><li>'ENSGR0000275287.3'</li><li>'ENSGR0000276543.3'</li><li>'ENSGR0000277120.3'</li><li>'ENSGR0000280767.1'</li><li>'ENSGR0000281849.1'</li></ol>\n"
      ],
      "text/latex": [
       "\\begin{enumerate*}\n",
       "\\item 'ENSGR0000002586.16'\n",
       "\\item 'ENSGR0000124333.13'\n",
       "\\item 'ENSGR0000124334.15'\n",
       "\\item 'ENSGR0000167393.15'\n",
       "\\item 'ENSGR0000168939.9'\n",
       "\\item 'ENSGR0000169084.11'\n",
       "\\item 'ENSGR0000169093.13'\n",
       "\\item 'ENSGR0000169100.11'\n",
       "\\item 'ENSGR0000178605.11'\n",
       "\\item 'ENSGR0000182162.8'\n",
       "\\item 'ENSGR0000182378.11'\n",
       "\\item 'ENSGR0000182484.13'\n",
       "\\item 'ENSGR0000185203.10'\n",
       "\\item 'ENSGR0000185291.9'\n",
       "\\item 'ENSGR0000185960.11'\n",
       "\\item 'ENSGR0000196433.10'\n",
       "\\item 'ENSGR0000197976.9'\n",
       "\\item 'ENSGR0000198223.13'\n",
       "\\item 'ENSGR0000205755.9'\n",
       "\\item 'ENSGR0000214717.8'\n",
       "\\item 'ENSGR0000223274.4'\n",
       "\\item 'ENSGR0000223484.5'\n",
       "\\item 'ENSGR0000223511.4'\n",
       "\\item 'ENSGR0000223571.4'\n",
       "\\item 'ENSGR0000223773.5'\n",
       "\\item 'ENSGR0000225661.5'\n",
       "\\item 'ENSGR0000226179.4'\n",
       "\\item 'ENSGR0000227159.6'\n",
       "\\item 'ENSGR0000228410.4'\n",
       "\\item 'ENSGR0000228572.5'\n",
       "\\item 'ENSGR0000229232.4'\n",
       "\\item 'ENSGR0000230542.4'\n",
       "\\item 'ENSGR0000234622.4'\n",
       "\\item 'ENSGR0000234958.4'\n",
       "\\item 'ENSGR0000236017.6'\n",
       "\\item 'ENSGR0000236871.5'\n",
       "\\item 'ENSGR0000237040.4'\n",
       "\\item 'ENSGR0000237531.4'\n",
       "\\item 'ENSGR0000237801.4'\n",
       "\\item 'ENSGR0000263835.4'\n",
       "\\item 'ENSGR0000263980.4'\n",
       "\\item 'ENSGR0000264510.4'\n",
       "\\item 'ENSGR0000264819.4'\n",
       "\\item 'ENSGR0000265658.4'\n",
       "\\item 'ENSGR0000270726.4'\n",
       "\\item 'ENSGR0000275287.3'\n",
       "\\item 'ENSGR0000276543.3'\n",
       "\\item 'ENSGR0000277120.3'\n",
       "\\item 'ENSGR0000280767.1'\n",
       "\\item 'ENSGR0000281849.1'\n",
       "\\end{enumerate*}\n"
      ],
      "text/markdown": [
       "1. 'ENSGR0000002586.16'\n",
       "2. 'ENSGR0000124333.13'\n",
       "3. 'ENSGR0000124334.15'\n",
       "4. 'ENSGR0000167393.15'\n",
       "5. 'ENSGR0000168939.9'\n",
       "6. 'ENSGR0000169084.11'\n",
       "7. 'ENSGR0000169093.13'\n",
       "8. 'ENSGR0000169100.11'\n",
       "9. 'ENSGR0000178605.11'\n",
       "10. 'ENSGR0000182162.8'\n",
       "11. 'ENSGR0000182378.11'\n",
       "12. 'ENSGR0000182484.13'\n",
       "13. 'ENSGR0000185203.10'\n",
       "14. 'ENSGR0000185291.9'\n",
       "15. 'ENSGR0000185960.11'\n",
       "16. 'ENSGR0000196433.10'\n",
       "17. 'ENSGR0000197976.9'\n",
       "18. 'ENSGR0000198223.13'\n",
       "19. 'ENSGR0000205755.9'\n",
       "20. 'ENSGR0000214717.8'\n",
       "21. 'ENSGR0000223274.4'\n",
       "22. 'ENSGR0000223484.5'\n",
       "23. 'ENSGR0000223511.4'\n",
       "24. 'ENSGR0000223571.4'\n",
       "25. 'ENSGR0000223773.5'\n",
       "26. 'ENSGR0000225661.5'\n",
       "27. 'ENSGR0000226179.4'\n",
       "28. 'ENSGR0000227159.6'\n",
       "29. 'ENSGR0000228410.4'\n",
       "30. 'ENSGR0000228572.5'\n",
       "31. 'ENSGR0000229232.4'\n",
       "32. 'ENSGR0000230542.4'\n",
       "33. 'ENSGR0000234622.4'\n",
       "34. 'ENSGR0000234958.4'\n",
       "35. 'ENSGR0000236017.6'\n",
       "36. 'ENSGR0000236871.5'\n",
       "37. 'ENSGR0000237040.4'\n",
       "38. 'ENSGR0000237531.4'\n",
       "39. 'ENSGR0000237801.4'\n",
       "40. 'ENSGR0000263835.4'\n",
       "41. 'ENSGR0000263980.4'\n",
       "42. 'ENSGR0000264510.4'\n",
       "43. 'ENSGR0000264819.4'\n",
       "44. 'ENSGR0000265658.4'\n",
       "45. 'ENSGR0000270726.4'\n",
       "46. 'ENSGR0000275287.3'\n",
       "47. 'ENSGR0000276543.3'\n",
       "48. 'ENSGR0000277120.3'\n",
       "49. 'ENSGR0000280767.1'\n",
       "50. 'ENSGR0000281849.1'\n",
       "\n",
       "\n"
      ],
      "text/plain": [
       " [1] \"ENSGR0000002586.16\" \"ENSGR0000124333.13\" \"ENSGR0000124334.15\"\n",
       " [4] \"ENSGR0000167393.15\" \"ENSGR0000168939.9\"  \"ENSGR0000169084.11\"\n",
       " [7] \"ENSGR0000169093.13\" \"ENSGR0000169100.11\" \"ENSGR0000178605.11\"\n",
       "[10] \"ENSGR0000182162.8\"  \"ENSGR0000182378.11\" \"ENSGR0000182484.13\"\n",
       "[13] \"ENSGR0000185203.10\" \"ENSGR0000185291.9\"  \"ENSGR0000185960.11\"\n",
       "[16] \"ENSGR0000196433.10\" \"ENSGR0000197976.9\"  \"ENSGR0000198223.13\"\n",
       "[19] \"ENSGR0000205755.9\"  \"ENSGR0000214717.8\"  \"ENSGR0000223274.4\" \n",
       "[22] \"ENSGR0000223484.5\"  \"ENSGR0000223511.4\"  \"ENSGR0000223571.4\" \n",
       "[25] \"ENSGR0000223773.5\"  \"ENSGR0000225661.5\"  \"ENSGR0000226179.4\" \n",
       "[28] \"ENSGR0000227159.6\"  \"ENSGR0000228410.4\"  \"ENSGR0000228572.5\" \n",
       "[31] \"ENSGR0000229232.4\"  \"ENSGR0000230542.4\"  \"ENSGR0000234622.4\" \n",
       "[34] \"ENSGR0000234958.4\"  \"ENSGR0000236017.6\"  \"ENSGR0000236871.5\" \n",
       "[37] \"ENSGR0000237040.4\"  \"ENSGR0000237531.4\"  \"ENSGR0000237801.4\" \n",
       "[40] \"ENSGR0000263835.4\"  \"ENSGR0000263980.4\"  \"ENSGR0000264510.4\" \n",
       "[43] \"ENSGR0000264819.4\"  \"ENSGR0000265658.4\"  \"ENSGR0000270726.4\" \n",
       "[46] \"ENSGR0000275287.3\"  \"ENSGR0000276543.3\"  \"ENSGR0000277120.3\" \n",
       "[49] \"ENSGR0000280767.1\"  \"ENSGR0000281849.1\" "
      ]
     },
     "metadata": {},
     "output_type": "display_data"
    }
   ],
   "source": [
    "sample_data$X[!grepl(\"^ENSG\\\\d+\", sample_data$X)]"
   ]
  },
  {
   "cell_type": "code",
   "execution_count": 48,
   "id": "ace7fd97",
   "metadata": {
    "vscode": {
     "languageId": "r"
    }
   },
   "outputs": [
    {
     "name": "stderr",
     "output_type": "stream",
     "text": [
      "Gene IDs are in the first column\n",
      "\n",
      "Ensembl ID percentage: 100\n",
      "\n",
      "Converting Ensembl IDs to gene symbols...\n",
      "\n",
      "Gene IDs are in the first column\n",
      "\n",
      "Ensembl ID percentage: 100\n",
      "\n",
      "Converting Ensembl IDs to gene symbols...\n",
      "\n"
     ]
    }
   ],
   "source": [
    "is_ensembl <- function(ids) {\n",
    "  ensembl_count <- sum(grepl(\"^ENSG\", ids))\n",
    "  ensembl_percentage <- ensembl_count / length(ids) * 100\n",
    "  message(paste0(\"Ensembl ID percentage: \", ensembl_percentage))\n",
    "  return(ensembl_percentage > 95)\n",
    "}\n",
    "\n",
    "# Function to strip version numbers from Ensembl IDs\n",
    "strip_version <- function(ids) {\n",
    "  gsub(\"\\\\.[0-9]+$\", \"\", ids)\n",
    "}\n",
    "\n",
    "# Convert Ensembl IDs to gene symbols using seAMLess::grch38\n",
    "convert_to_symbols <- function(data) {\n",
    "  # Check if gene IDs are in the first column or rownames\n",
    "  if (is.null(rownames(data)) || all(rownames(data) == seq_len(nrow(data)))) {\n",
    "    message(\"Gene IDs are in the first column\")\n",
    "    gene_ids <- data[,1]\n",
    "    id_in_column <- TRUE\n",
    "  } else {\n",
    "    message(\"Gene IDs are in rownames\")\n",
    "    gene_ids <- rownames(data)\n",
    "    id_in_column <- FALSE\n",
    "  }\n",
    "  \n",
    "  if (is_ensembl(gene_ids)) {\n",
    "    message(\"Converting Ensembl IDs to gene symbols...\")\n",
    "    id_map <- seAMLess::grch38\n",
    "    stripped_ids <- strip_version(gene_ids)\n",
    "    new_ids <- id_map$symbol[match(stripped_ids, id_map$ensgene)]\n",
    "    \n",
    "    # Replace NA values with original IDs\n",
    "    new_ids[is.na(new_ids)] <- gene_ids[is.na(new_ids)]\n",
    "    \n",
    "    if (id_in_column) {\n",
    "      data[,1] <- new_ids\n",
    "    } else {\n",
    "      rownames(data) <- new_ids\n",
    "    }\n",
    "  }\n",
    "  return(data)\n",
    "}\n",
    "\n",
    "# Apply conversion to uncorrected and sample_data\n",
    "uncorrected <- convert_to_symbols(uncorrected)\n",
    "sample_data <- convert_to_symbols(sample_data)\n",
    "\n",
    "# Ensure gene names are consistent between datasets\n",
    "get_gene_ids <- function(data) {\n",
    "  if (is.null(rownames(data)) || all(rownames(data) == seq_len(nrow(data)))) {\n",
    "    return(data[,1])\n",
    "  } else {\n",
    "    return(rownames(data))\n",
    "  }\n",
    "}\n",
    "\n",
    "message(\"Getting common genes...\")\n",
    "common_genes <- intersect(get_gene_ids(uncorrected), get_gene_ids(sample_data))\n",
    "message(paste0(\"Number of common genes: \", length(common_genes)))\n",
    "\n",
    "\n",
    "if(length(common_genes) < 10) {\n",
    "  warning(\"Less than 10 common genes! Please check the data format.\")\n",
    "}\n",
    "\n",
    "if(length(common_genes) < 1000) {\n",
    "  warning(\"Less than 1000 common genes! Maybe the data is not in the correct format?\")\n",
    "} \n",
    "\n",
    "# Subset the data to include only common genes\n",
    "subset_data <- function(data, common_genes) {\n",
    "  if (is.null(rownames(data)) || all(rownames(data) == seq_len(nrow(data)))) {\n",
    "    return(data[data[,1] %in% common_genes, ])\n",
    "  } else {\n",
    "    return(data[rownames(data) %in% common_genes, ])\n",
    "  }\n",
    "}\n",
    "\n",
    "uncorrected <- subset_data(uncorrected, common_genes)\n",
    "sample_data <- subset_data(sample_data, common_genes)"
   ]
  },
  {
   "cell_type": "code",
   "execution_count": 12,
   "id": "d41625c8-2712-4bca-8bcf-b82eab2e3bdf",
   "metadata": {
    "vscode": {
     "languageId": "r"
    }
   },
   "outputs": [
    {
     "name": "stderr",
     "output_type": "stream",
     "text": [
      "Warning message:\n",
      "“package ‘data.table’ was built under R version 4.2.3”\n",
      "\n",
      "Attaching package: ‘data.table’\n",
      "\n",
      "\n",
      "The following object is masked from ‘package:IRanges’:\n",
      "\n",
      "    shift\n",
      "\n",
      "\n",
      "The following objects are masked from ‘package:S4Vectors’:\n",
      "\n",
      "    first, second\n",
      "\n",
      "\n"
     ]
    },
    {
     "data": {
      "text/html": [
       "'/exports/me-lcco-aml-hpc/Onur/seAMLess/site/backend'"
      ],
      "text/latex": [
       "'/exports/me-lcco-aml-hpc/Onur/seAMLess/site/backend'"
      ],
      "text/markdown": [
       "'/exports/me-lcco-aml-hpc/Onur/seAMLess/site/backend'"
      ],
      "text/plain": [
       "[1] \"/exports/me-lcco-aml-hpc/Onur/seAMLess/site/backend\""
      ]
     },
     "metadata": {},
     "output_type": "display_data"
    },
    {
     "name": "stderr",
     "output_type": "stream",
     "text": [
      "Gene IDs are in the first column\n",
      "\n",
      "Ensembl ID percentage: 100\n",
      "\n",
      "Converting Ensembl IDs to gene symbols...\n",
      "\n",
      "Gene IDs are in the first column\n",
      "\n",
      "Ensembl ID percentage: 100\n",
      "\n",
      "Converting Ensembl IDs to gene symbols...\n",
      "\n",
      "Getting common genes...\n",
      "\n",
      "Number of common genes: 55528\n",
      "\n",
      "Checking for non-unique genes...\n",
      "\n",
      "Uncorrected data unique genes: 59657\n",
      "\n",
      "Uncorrected data total genes: 60660\n",
      "\n",
      "Sample data unique genes: 59523\n",
      "\n",
      "Sample data total genes: 60483\n",
      "\n",
      "Warning message in uncorrected_vars + sample_vars:\n",
      "“longer object length is not a multiple of shorter object length”\n",
      "Subsetting uncorrected data...\n",
      "\n",
      "Uncorrected data dimensions: 60660x1225\n",
      "\n",
      "Uncorrected data dimensions after subsetting: 55528x1225\n",
      "\n",
      "Subsetting sample data...\n",
      "\n",
      "Sample data dimensions: 60483x10\n",
      "\n",
      "Sample data dimensions after subsetting: 55528x10\n",
      "\n"
     ]
    }
   ],
   "source": [
    "    library(data.table)\n",
    "    library(seAMLess)\n",
    "    library(sva)\n",
    "    getwd()\n",
    "    uncorrected <- fread(\"data/counts/uncorrected_counts.csv\", data.table = F)\n",
    "    sample_data <- readRDS(\"cache/sample_data.rds\")\n",
    "    metadata <- fread(\"data/meta.csv\", data.table = F)\n",
    "\n",
    "    is_ensembl <- function(ids) {\n",
    "        ensembl_count <- sum(grepl(\"^ENSG\", ids))\n",
    "        ensembl_percentage <- ensembl_count / length(ids) * 100\n",
    "        message(paste0(\"Ensembl ID percentage: \", ensembl_percentage))\n",
    "        return(ensembl_percentage > 95)\n",
    "    }\n",
    "\n",
    "    # Function to strip version numbers from Ensembl IDs\n",
    "    strip_version <- function(ids) {\n",
    "        gsub(\"\\\\.[0-9]+$\", \"\", ids)\n",
    "    }\n",
    "\n",
    "    # Convert Ensembl IDs to gene symbols using seAMLess::grch38\n",
    "    convert_to_symbols <- function(data) {\n",
    "        # Check if gene IDs are in the first column or rownames\n",
    "        if (is.null(rownames(data)) || all(rownames(data) == seq_len(nrow(data)))) {\n",
    "            message(\"Gene IDs are in the first column\")\n",
    "            gene_ids <- data[, 1]\n",
    "            id_in_column <- TRUE\n",
    "        } else {\n",
    "            message(\"Gene IDs are in rownames\")\n",
    "            gene_ids <- rownames(data)\n",
    "            id_in_column <- FALSE\n",
    "        }\n",
    "\n",
    "        if (is_ensembl(gene_ids)) {\n",
    "            message(\"Converting Ensembl IDs to gene symbols...\")\n",
    "            id_map <- seAMLess::grch38\n",
    "            stripped_ids <- strip_version(gene_ids)\n",
    "            new_ids <- id_map$symbol[match(stripped_ids, id_map$ensgene)]\n",
    "\n",
    "            # Replace NA values with original IDs\n",
    "            new_ids[is.na(new_ids)] <- gene_ids[is.na(new_ids)]\n",
    "\n",
    "            if (id_in_column) {\n",
    "                data[, 1] <- new_ids\n",
    "            } else {\n",
    "                rownames(data) <- new_ids\n",
    "            }\n",
    "        }\n",
    "        return(data)\n",
    "    }\n",
    "\n",
    "    # Apply conversion to uncorrected and sample_data\n",
    "    uncorrected <- convert_to_symbols(uncorrected)\n",
    "    sample_data <- convert_to_symbols(sample_data)\n",
    "\n",
    "    # Ensure gene names are consistent between datasets\n",
    "    get_gene_ids <- function(data) {\n",
    "        if (is.null(rownames(data)) || all(rownames(data) == seq_len(nrow(data)))) {\n",
    "            return(data[, 1])\n",
    "        } else {\n",
    "            return(rownames(data))\n",
    "        }\n",
    "    }\n",
    "\n",
    "    message(\"Getting common genes...\")\n",
    "    uncorrected_genes <- get_gene_ids(uncorrected)\n",
    "    sample_genes <- get_gene_ids(sample_data)\n",
    "    common_genes <- intersect(uncorrected_genes, sample_genes)\n",
    "    message(paste0(\"Number of common genes: \", length(common_genes)))\n",
    "\n",
    "    # Check for non-unique genes\n",
    "    message(\"Checking for non-unique genes...\")\n",
    "    message(paste(\"Uncorrected data unique genes:\", length(unique(uncorrected_genes))))\n",
    "    message(paste(\"Uncorrected data total genes:\", length(uncorrected_genes)))\n",
    "    message(paste(\"Sample data unique genes:\", length(unique(sample_genes))))\n",
    "    message(paste(\"Sample data total genes:\", length(sample_genes)))\n",
    "\n",
    "    if (length(common_genes) < 10) {\n",
    "        warning(\"Less than 10 common genes! Please check the data format.\")\n",
    "        return(NULL)\n",
    "    }\n",
    "\n",
    "    if (length(common_genes) < 1000) {\n",
    "        warning(\"Less than 1000 common genes! Maybe the data is not in the correct format?\")\n",
    "        return(NULL)\n",
    "    }\n",
    "\n",
    "    # Function to calculate variance for each gene\n",
    "    calc_gene_variance <- function(data) {\n",
    "        if (is.null(rownames(data)) || all(rownames(data) == seq_len(nrow(data)))) {\n",
    "            # If genes are in the first column\n",
    "            gene_vars <- apply(data[, -1], 1, var)\n",
    "            names(gene_vars) <- data[, 1]\n",
    "        } else {\n",
    "            # If genes are in rownames\n",
    "            gene_vars <- apply(data, 1, var)\n",
    "        }\n",
    "        return(gene_vars)\n",
    "    }\n",
    "\n",
    "    # Calculate variance for each dataset\n",
    "    uncorrected_vars <- calc_gene_variance(uncorrected)\n",
    "    sample_vars <- calc_gene_variance(sample_data)\n",
    "\n",
    "    # Combine variances\n",
    "    combined_vars <- uncorrected_vars + sample_vars\n",
    "    combined_vars <- combined_vars[names(combined_vars) %in% common_genes]\n",
    "\n",
    "    # Sort genes by combined variance\n",
    "    sorted_genes <- names(sort(combined_vars, decreasing = TRUE))\n",
    "\n",
    "    # Subset the data to include only common genes, handling non-unique genes, sorted by variance\n",
    "    subset_data <- function(data, sorted_genes) {\n",
    "        if (is.null(rownames(data)) || all(rownames(data) == seq_len(nrow(data)))) {\n",
    "            # If genes are in the first column\n",
    "            subset <- data[data[, 1] %in% sorted_genes, ]\n",
    "            subset <- subset[match(sorted_genes, subset[, 1]), ]\n",
    "            # Remove duplicates, keeping the first (most variable) occurrence\n",
    "            subset <- subset[!duplicated(subset[, 1]), ]\n",
    "        } else {\n",
    "            # If genes are in rownames\n",
    "            subset <- data[rownames(data) %in% sorted_genes, ]\n",
    "            subset <- subset[match(sorted_genes, rownames(subset)), ]\n",
    "            # Remove duplicates, keeping the first (most variable) occurrence\n",
    "            subset <- subset[!duplicated(rownames(subset)), ]\n",
    "        }\n",
    "        return(subset)\n",
    "    }\n",
    "\n",
    "    message(\"Subsetting uncorrected data...\")\n",
    "    message(paste(\"Uncorrected data dimensions:\", paste(dim(uncorrected), collapse = \"x\")))\n",
    "    uncorrected <- subset_data(uncorrected, sorted_genes)\n",
    "    message(paste(\"Uncorrected data dimensions after subsetting:\", paste(dim(uncorrected), collapse = \"x\")))\n",
    "\n",
    "    message(\"Subsetting sample data...\")\n",
    "    message(paste(\"Sample data dimensions:\", paste(dim(sample_data), collapse = \"x\")))\n",
    "    sample_data <- subset_data(sample_data, sorted_genes)\n",
    "    message(paste(\"Sample data dimensions after subsetting:\", paste(dim(sample_data), collapse = \"x\")))\n",
    "\n",
    "    # Final check\n",
    "    if (nrow(uncorrected) != nrow(sample_data)) {\n",
    "        message(\"Error: Number of rows still don't match after subsetting and removing duplicates.\")\n",
    "        return(NULL)\n",
    "    }"
   ]
  },
  {
   "cell_type": "code",
   "execution_count": 15,
   "id": "e4ef2f25-529f-4320-a041-facddcbbaadc",
   "metadata": {
    "vscode": {
     "languageId": "r"
    }
   },
   "outputs": [
    {
     "name": "stderr",
     "output_type": "stream",
     "text": [
      "Combining uncorrected and sample data...\n",
      "\n"
     ]
    }
   ],
   "source": [
    "    message(\"Combining uncorrected and sample data...\")\n",
    "    # Ensure uncorrected and sample_data have genes as rownames\n",
    "    if (is.null(rownames(uncorrected))) {\n",
    "        rownames(uncorrected) <- uncorrected[, 1]\n",
    "        uncorrected <- uncorrected[, -1]\n",
    "    }\n",
    "    if (is.null(rownames(sample_data))) {\n",
    "        rownames(sample_data) <- sample_data[, 1]\n",
    "        sample_data <- sample_data[, -1]\n",
    "    }\n",
    "\n",
    "    # Combine the data, keeping genes as rownames and samples as columns\n",
    "    data_to_be_corrected <- cbind(uncorrected, sample_data)"
   ]
  },
  {
   "cell_type": "code",
   "execution_count": null,
   "id": "3ca34d98-b64d-458c-a597-610b8c0089e8",
   "metadata": {
    "vscode": {
     "languageId": "r"
    }
   },
   "outputs": [],
   "source": [
    "\n",
    "\n",
    "    message(\"Creating batch vector...\")\n",
    "    batch <- c(paste0(metadata$study), rep(\"sample_data\", (ncol(sample_data) - 1)))\n",
    "\n",
    "    message(\"Correcting data...\")\n",
    "    corrected_matrix <- ComBat_seq(as.matrix(data_to_be_corrected), batch = batch, full_mod = F)\n",
    "\n",
    "    message(\"Returning corrected data...\")\n",
    "    saveRDS(corrected_matrix, \"cache/corrected_matrix.rds\")"
   ]
  },
  {
   "cell_type": "code",
   "execution_count": 28,
   "id": "15f0a096-141a-4106-8157-238252563635",
   "metadata": {
    "vscode": {
     "languageId": "r"
    }
   },
   "outputs": [],
   "source": [
    "tsne_result <- readRDS(\"cache/tsne_result.rds\")\n",
    "metadata <- read.csv(\"data/meta.csv\")"
   ]
  },
  {
   "cell_type": "code",
   "execution_count": 29,
   "id": "25d17485-54f5-4f56-85e3-af1fcde3c60d",
   "metadata": {
    "vscode": {
     "languageId": "r"
    }
   },
   "outputs": [],
   "source": [
    " # Identify which rows in tsne_result correspond to the original data\n",
    "    original_samples <- intersect(rownames(tsne_result), metadata$sample_id)\n",
    "\n",
    "    # Create a new data frame for the result\n",
    "    result <- data.frame(\n",
    "        sample_id = rownames(tsne_result),\n",
    "        X1 = tsne_result$X1,\n",
    "        X2 = tsne_result$X2,\n",
    "        data_source = ifelse(rownames(tsne_result) %in% original_samples, \"original\", \"sample_data\")\n",
    "    )\n",
    "\n",
    "    \n",
    "\n",
    "    # Merge metadata only for the original samples\n",
    "    result <- merge(result, metadata, by = \"sample_id\", all.x = TRUE)\n"
   ]
  },
  {
   "cell_type": "code",
   "execution_count": 36,
   "id": "3c291203-e1f8-411e-87b4-aa8a6c9ddd24",
   "metadata": {
    "vscode": {
     "languageId": "r"
    }
   },
   "outputs": [
    {
     "data": {
      "text/html": [
       "<table class=\"dataframe\">\n",
       "<caption>A data.frame: 9 × 20</caption>\n",
       "<thead>\n",
       "\t<tr><th></th><th scope=col>sample_id</th><th scope=col>X1</th><th scope=col>X2</th><th scope=col>data_source</th><th scope=col>sex</th><th scope=col>tissue</th><th scope=col>prim_rec</th><th scope=col>age</th><th scope=col>survival_years</th><th scope=col>event</th><th scope=col>blasts</th><th scope=col>FAB</th><th scope=col>karyotyping</th><th scope=col>study</th><th scope=col>RNA_seq_method_Leucegene</th><th scope=col>WHO_2022</th><th scope=col>ICC_2022</th><th scope=col>KMT2A_diagnosis</th><th scope=col>rare_diagnosis</th><th scope=col>clusters</th></tr>\n",
       "\t<tr><th></th><th scope=col>&lt;chr&gt;</th><th scope=col>&lt;dbl&gt;</th><th scope=col>&lt;dbl&gt;</th><th scope=col>&lt;chr&gt;</th><th scope=col>&lt;chr&gt;</th><th scope=col>&lt;chr&gt;</th><th scope=col>&lt;chr&gt;</th><th scope=col>&lt;dbl&gt;</th><th scope=col>&lt;dbl&gt;</th><th scope=col>&lt;chr&gt;</th><th scope=col>&lt;dbl&gt;</th><th scope=col>&lt;chr&gt;</th><th scope=col>&lt;chr&gt;</th><th scope=col>&lt;chr&gt;</th><th scope=col>&lt;chr&gt;</th><th scope=col>&lt;chr&gt;</th><th scope=col>&lt;chr&gt;</th><th scope=col>&lt;chr&gt;</th><th scope=col>&lt;chr&gt;</th><th scope=col>&lt;chr&gt;</th></tr>\n",
       "</thead>\n",
       "<tbody>\n",
       "\t<tr><th scope=row>709</th><td>TCGA.AB.2849.03A_sample_data</td><td> -4.491617</td><td>-17.170507</td><td>sample_data</td><td>NA</td><td>NA</td><td>NA</td><td>NA</td><td>NA</td><td>NA</td><td>NA</td><td>NA</td><td>NA</td><td>NA</td><td>NA</td><td>NA</td><td>NA</td><td>NA</td><td>NA</td><td>NA</td></tr>\n",
       "\t<tr><th scope=row>711</th><td>TCGA.AB.2851.03A_sample_data</td><td> -3.200869</td><td> 13.179390</td><td>sample_data</td><td>NA</td><td>NA</td><td>NA</td><td>NA</td><td>NA</td><td>NA</td><td>NA</td><td>NA</td><td>NA</td><td>NA</td><td>NA</td><td>NA</td><td>NA</td><td>NA</td><td>NA</td><td>NA</td></tr>\n",
       "\t<tr><th scope=row>714</th><td>TCGA.AB.2856.03A_sample_data</td><td> -7.865467</td><td>  8.643983</td><td>sample_data</td><td>NA</td><td>NA</td><td>NA</td><td>NA</td><td>NA</td><td>NA</td><td>NA</td><td>NA</td><td>NA</td><td>NA</td><td>NA</td><td>NA</td><td>NA</td><td>NA</td><td>NA</td><td>NA</td></tr>\n",
       "\t<tr><th scope=row>728</th><td>TCGA.AB.2872.03A_sample_data</td><td> 14.763342</td><td>-36.911807</td><td>sample_data</td><td>NA</td><td>NA</td><td>NA</td><td>NA</td><td>NA</td><td>NA</td><td>NA</td><td>NA</td><td>NA</td><td>NA</td><td>NA</td><td>NA</td><td>NA</td><td>NA</td><td>NA</td><td>NA</td></tr>\n",
       "\t<tr><th scope=row>746</th><td>TCGA.AB.2891.03A_sample_data</td><td> 16.447120</td><td>  3.567718</td><td>sample_data</td><td>NA</td><td>NA</td><td>NA</td><td>NA</td><td>NA</td><td>NA</td><td>NA</td><td>NA</td><td>NA</td><td>NA</td><td>NA</td><td>NA</td><td>NA</td><td>NA</td><td>NA</td><td>NA</td></tr>\n",
       "\t<tr><th scope=row>776</th><td>TCGA.AB.2930.03A_sample_data</td><td> -7.371390</td><td>  5.985004</td><td>sample_data</td><td>NA</td><td>NA</td><td>NA</td><td>NA</td><td>NA</td><td>NA</td><td>NA</td><td>NA</td><td>NA</td><td>NA</td><td>NA</td><td>NA</td><td>NA</td><td>NA</td><td>NA</td><td>NA</td></tr>\n",
       "\t<tr><th scope=row>794</th><td>TCGA.AB.2949.03B_sample_data</td><td>  8.474817</td><td> -6.098033</td><td>sample_data</td><td>NA</td><td>NA</td><td>NA</td><td>NA</td><td>NA</td><td>NA</td><td>NA</td><td>NA</td><td>NA</td><td>NA</td><td>NA</td><td>NA</td><td>NA</td><td>NA</td><td>NA</td><td>NA</td></tr>\n",
       "\t<tr><th scope=row>805</th><td>TCGA.AB.2971.03A_sample_data</td><td> -9.047099</td><td> 15.817610</td><td>sample_data</td><td>NA</td><td>NA</td><td>NA</td><td>NA</td><td>NA</td><td>NA</td><td>NA</td><td>NA</td><td>NA</td><td>NA</td><td>NA</td><td>NA</td><td>NA</td><td>NA</td><td>NA</td><td>NA</td></tr>\n",
       "\t<tr><th scope=row>833</th><td>TCGA.AB.3011.03A_sample_data</td><td>-24.332307</td><td> -4.250429</td><td>sample_data</td><td>NA</td><td>NA</td><td>NA</td><td>NA</td><td>NA</td><td>NA</td><td>NA</td><td>NA</td><td>NA</td><td>NA</td><td>NA</td><td>NA</td><td>NA</td><td>NA</td><td>NA</td><td>NA</td></tr>\n",
       "</tbody>\n",
       "</table>\n"
      ],
      "text/latex": [
       "A data.frame: 9 × 20\n",
       "\\begin{tabular}{r|llllllllllllllllllll}\n",
       "  & sample\\_id & X1 & X2 & data\\_source & sex & tissue & prim\\_rec & age & survival\\_years & event & blasts & FAB & karyotyping & study & RNA\\_seq\\_method\\_Leucegene & WHO\\_2022 & ICC\\_2022 & KMT2A\\_diagnosis & rare\\_diagnosis & clusters\\\\\n",
       "  & <chr> & <dbl> & <dbl> & <chr> & <chr> & <chr> & <chr> & <dbl> & <dbl> & <chr> & <dbl> & <chr> & <chr> & <chr> & <chr> & <chr> & <chr> & <chr> & <chr> & <chr>\\\\\n",
       "\\hline\n",
       "\t709 & TCGA.AB.2849.03A\\_sample\\_data &  -4.491617 & -17.170507 & sample\\_data & NA & NA & NA & NA & NA & NA & NA & NA & NA & NA & NA & NA & NA & NA & NA & NA\\\\\n",
       "\t711 & TCGA.AB.2851.03A\\_sample\\_data &  -3.200869 &  13.179390 & sample\\_data & NA & NA & NA & NA & NA & NA & NA & NA & NA & NA & NA & NA & NA & NA & NA & NA\\\\\n",
       "\t714 & TCGA.AB.2856.03A\\_sample\\_data &  -7.865467 &   8.643983 & sample\\_data & NA & NA & NA & NA & NA & NA & NA & NA & NA & NA & NA & NA & NA & NA & NA & NA\\\\\n",
       "\t728 & TCGA.AB.2872.03A\\_sample\\_data &  14.763342 & -36.911807 & sample\\_data & NA & NA & NA & NA & NA & NA & NA & NA & NA & NA & NA & NA & NA & NA & NA & NA\\\\\n",
       "\t746 & TCGA.AB.2891.03A\\_sample\\_data &  16.447120 &   3.567718 & sample\\_data & NA & NA & NA & NA & NA & NA & NA & NA & NA & NA & NA & NA & NA & NA & NA & NA\\\\\n",
       "\t776 & TCGA.AB.2930.03A\\_sample\\_data &  -7.371390 &   5.985004 & sample\\_data & NA & NA & NA & NA & NA & NA & NA & NA & NA & NA & NA & NA & NA & NA & NA & NA\\\\\n",
       "\t794 & TCGA.AB.2949.03B\\_sample\\_data &   8.474817 &  -6.098033 & sample\\_data & NA & NA & NA & NA & NA & NA & NA & NA & NA & NA & NA & NA & NA & NA & NA & NA\\\\\n",
       "\t805 & TCGA.AB.2971.03A\\_sample\\_data &  -9.047099 &  15.817610 & sample\\_data & NA & NA & NA & NA & NA & NA & NA & NA & NA & NA & NA & NA & NA & NA & NA & NA\\\\\n",
       "\t833 & TCGA.AB.3011.03A\\_sample\\_data & -24.332307 &  -4.250429 & sample\\_data & NA & NA & NA & NA & NA & NA & NA & NA & NA & NA & NA & NA & NA & NA & NA & NA\\\\\n",
       "\\end{tabular}\n"
      ],
      "text/markdown": [
       "\n",
       "A data.frame: 9 × 20\n",
       "\n",
       "| <!--/--> | sample_id &lt;chr&gt; | X1 &lt;dbl&gt; | X2 &lt;dbl&gt; | data_source &lt;chr&gt; | sex &lt;chr&gt; | tissue &lt;chr&gt; | prim_rec &lt;chr&gt; | age &lt;dbl&gt; | survival_years &lt;dbl&gt; | event &lt;chr&gt; | blasts &lt;dbl&gt; | FAB &lt;chr&gt; | karyotyping &lt;chr&gt; | study &lt;chr&gt; | RNA_seq_method_Leucegene &lt;chr&gt; | WHO_2022 &lt;chr&gt; | ICC_2022 &lt;chr&gt; | KMT2A_diagnosis &lt;chr&gt; | rare_diagnosis &lt;chr&gt; | clusters &lt;chr&gt; |\n",
       "|---|---|---|---|---|---|---|---|---|---|---|---|---|---|---|---|---|---|---|---|---|\n",
       "| 709 | TCGA.AB.2849.03A_sample_data |  -4.491617 | -17.170507 | sample_data | NA | NA | NA | NA | NA | NA | NA | NA | NA | NA | NA | NA | NA | NA | NA | NA |\n",
       "| 711 | TCGA.AB.2851.03A_sample_data |  -3.200869 |  13.179390 | sample_data | NA | NA | NA | NA | NA | NA | NA | NA | NA | NA | NA | NA | NA | NA | NA | NA |\n",
       "| 714 | TCGA.AB.2856.03A_sample_data |  -7.865467 |   8.643983 | sample_data | NA | NA | NA | NA | NA | NA | NA | NA | NA | NA | NA | NA | NA | NA | NA | NA |\n",
       "| 728 | TCGA.AB.2872.03A_sample_data |  14.763342 | -36.911807 | sample_data | NA | NA | NA | NA | NA | NA | NA | NA | NA | NA | NA | NA | NA | NA | NA | NA |\n",
       "| 746 | TCGA.AB.2891.03A_sample_data |  16.447120 |   3.567718 | sample_data | NA | NA | NA | NA | NA | NA | NA | NA | NA | NA | NA | NA | NA | NA | NA | NA |\n",
       "| 776 | TCGA.AB.2930.03A_sample_data |  -7.371390 |   5.985004 | sample_data | NA | NA | NA | NA | NA | NA | NA | NA | NA | NA | NA | NA | NA | NA | NA | NA |\n",
       "| 794 | TCGA.AB.2949.03B_sample_data |   8.474817 |  -6.098033 | sample_data | NA | NA | NA | NA | NA | NA | NA | NA | NA | NA | NA | NA | NA | NA | NA | NA |\n",
       "| 805 | TCGA.AB.2971.03A_sample_data |  -9.047099 |  15.817610 | sample_data | NA | NA | NA | NA | NA | NA | NA | NA | NA | NA | NA | NA | NA | NA | NA | NA |\n",
       "| 833 | TCGA.AB.3011.03A_sample_data | -24.332307 |  -4.250429 | sample_data | NA | NA | NA | NA | NA | NA | NA | NA | NA | NA | NA | NA | NA | NA | NA | NA |\n",
       "\n"
      ],
      "text/plain": [
       "    sample_id                    X1         X2         data_source sex tissue\n",
       "709 TCGA.AB.2849.03A_sample_data  -4.491617 -17.170507 sample_data NA  NA    \n",
       "711 TCGA.AB.2851.03A_sample_data  -3.200869  13.179390 sample_data NA  NA    \n",
       "714 TCGA.AB.2856.03A_sample_data  -7.865467   8.643983 sample_data NA  NA    \n",
       "728 TCGA.AB.2872.03A_sample_data  14.763342 -36.911807 sample_data NA  NA    \n",
       "746 TCGA.AB.2891.03A_sample_data  16.447120   3.567718 sample_data NA  NA    \n",
       "776 TCGA.AB.2930.03A_sample_data  -7.371390   5.985004 sample_data NA  NA    \n",
       "794 TCGA.AB.2949.03B_sample_data   8.474817  -6.098033 sample_data NA  NA    \n",
       "805 TCGA.AB.2971.03A_sample_data  -9.047099  15.817610 sample_data NA  NA    \n",
       "833 TCGA.AB.3011.03A_sample_data -24.332307  -4.250429 sample_data NA  NA    \n",
       "    prim_rec age survival_years event blasts FAB karyotyping study\n",
       "709 NA       NA  NA             NA    NA     NA  NA          NA   \n",
       "711 NA       NA  NA             NA    NA     NA  NA          NA   \n",
       "714 NA       NA  NA             NA    NA     NA  NA          NA   \n",
       "728 NA       NA  NA             NA    NA     NA  NA          NA   \n",
       "746 NA       NA  NA             NA    NA     NA  NA          NA   \n",
       "776 NA       NA  NA             NA    NA     NA  NA          NA   \n",
       "794 NA       NA  NA             NA    NA     NA  NA          NA   \n",
       "805 NA       NA  NA             NA    NA     NA  NA          NA   \n",
       "833 NA       NA  NA             NA    NA     NA  NA          NA   \n",
       "    RNA_seq_method_Leucegene WHO_2022 ICC_2022 KMT2A_diagnosis rare_diagnosis\n",
       "709 NA                       NA       NA       NA              NA            \n",
       "711 NA                       NA       NA       NA              NA            \n",
       "714 NA                       NA       NA       NA              NA            \n",
       "728 NA                       NA       NA       NA              NA            \n",
       "746 NA                       NA       NA       NA              NA            \n",
       "776 NA                       NA       NA       NA              NA            \n",
       "794 NA                       NA       NA       NA              NA            \n",
       "805 NA                       NA       NA       NA              NA            \n",
       "833 NA                       NA       NA       NA              NA            \n",
       "    clusters\n",
       "709 NA      \n",
       "711 NA      \n",
       "714 NA      \n",
       "728 NA      \n",
       "746 NA      \n",
       "776 NA      \n",
       "794 NA      \n",
       "805 NA      \n",
       "833 NA      "
      ]
     },
     "metadata": {},
     "output_type": "display_data"
    }
   ],
   "source": [
    "result[result$data_source == \"sample_data\",]"
   ]
  },
  {
   "cell_type": "code",
   "execution_count": 39,
   "id": "6114fbfb-8ad6-4033-9c26-8ed9b15992c9",
   "metadata": {
    "vscode": {
     "languageId": "r"
    }
   },
   "outputs": [
    {
     "name": "stderr",
     "output_type": "stream",
     "text": [
      "Warning message:\n",
      "“package ‘qs’ was built under R version 4.2.3”\n",
      "qs 0.26.3\n",
      "\n"
     ]
    }
   ],
   "source": [
    "library(qs)"
   ]
  },
  {
   "cell_type": "code",
   "execution_count": null,
   "id": "cc50b32f-a8fe-4179-8091-94c7def9fb8c",
   "metadata": {
    "vscode": {
     "languageId": "r"
    }
   },
   "outputs": [],
   "source": [
    "qs::"
   ]
  }
 ],
 "metadata": {
  "kernelspec": {
   "display_name": "R",
   "language": "R",
   "name": "r"
  },
  "language_info": {
   "codemirror_mode": "r",
   "file_extension": ".r",
   "mimetype": "text/x-r-source",
   "name": "R",
   "pygments_lexer": "r",
   "version": "4.2.2"
  }
 },
 "nbformat": 4,
 "nbformat_minor": 5
}
